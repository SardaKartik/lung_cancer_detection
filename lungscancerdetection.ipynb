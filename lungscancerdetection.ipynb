{
 "cells": [
  {
   "cell_type": "markdown",
   "metadata": {},
   "source": [
    "# problem statement "
   ]
  },
  {
   "cell_type": "markdown",
   "metadata": {},
   "source": [
    "we have to create the model which effectively detect that people has lungs cancer or not so detecting the cancer in early state will helpful  "
   ]
  },
  {
   "cell_type": "code",
   "execution_count": 1,
   "metadata": {},
   "outputs": [],
   "source": [
    "import pandas as pd\n",
    "import numpy as np\n",
    "import tensorflow as tf\n",
    "import matplotlib.pyplot as plt"
   ]
  },
  {
   "cell_type": "code",
   "execution_count": 2,
   "metadata": {},
   "outputs": [],
   "source": [
    "# importing the dataset \n",
    "df = pd.read_csv(\"survey_lung_cancer.csv\")"
   ]
  },
  {
   "cell_type": "code",
   "execution_count": 3,
   "metadata": {},
   "outputs": [
    {
     "data": {
      "text/html": [
       "<div>\n",
       "<style scoped>\n",
       "    .dataframe tbody tr th:only-of-type {\n",
       "        vertical-align: middle;\n",
       "    }\n",
       "\n",
       "    .dataframe tbody tr th {\n",
       "        vertical-align: top;\n",
       "    }\n",
       "\n",
       "    .dataframe thead th {\n",
       "        text-align: right;\n",
       "    }\n",
       "</style>\n",
       "<table border=\"1\" class=\"dataframe\">\n",
       "  <thead>\n",
       "    <tr style=\"text-align: right;\">\n",
       "      <th></th>\n",
       "      <th>GENDER</th>\n",
       "      <th>AGE</th>\n",
       "      <th>SMOKING</th>\n",
       "      <th>YELLOW_FINGERS</th>\n",
       "      <th>ANXIETY</th>\n",
       "      <th>PEER_PRESSURE</th>\n",
       "      <th>CHRONIC DISEASE</th>\n",
       "      <th>FATIGUE</th>\n",
       "      <th>ALLERGY</th>\n",
       "      <th>WHEEZING</th>\n",
       "      <th>ALCOHOL CONSUMING</th>\n",
       "      <th>COUGHING</th>\n",
       "      <th>SHORTNESS OF BREATH</th>\n",
       "      <th>SWALLOWING DIFFICULTY</th>\n",
       "      <th>CHEST PAIN</th>\n",
       "      <th>LUNG_CANCER</th>\n",
       "    </tr>\n",
       "  </thead>\n",
       "  <tbody>\n",
       "    <tr>\n",
       "      <th>0</th>\n",
       "      <td>M</td>\n",
       "      <td>69</td>\n",
       "      <td>1</td>\n",
       "      <td>2</td>\n",
       "      <td>2</td>\n",
       "      <td>1</td>\n",
       "      <td>1</td>\n",
       "      <td>2</td>\n",
       "      <td>1</td>\n",
       "      <td>2</td>\n",
       "      <td>2</td>\n",
       "      <td>2</td>\n",
       "      <td>2</td>\n",
       "      <td>2</td>\n",
       "      <td>2</td>\n",
       "      <td>YES</td>\n",
       "    </tr>\n",
       "    <tr>\n",
       "      <th>1</th>\n",
       "      <td>M</td>\n",
       "      <td>74</td>\n",
       "      <td>2</td>\n",
       "      <td>1</td>\n",
       "      <td>1</td>\n",
       "      <td>1</td>\n",
       "      <td>2</td>\n",
       "      <td>2</td>\n",
       "      <td>2</td>\n",
       "      <td>1</td>\n",
       "      <td>1</td>\n",
       "      <td>1</td>\n",
       "      <td>2</td>\n",
       "      <td>2</td>\n",
       "      <td>2</td>\n",
       "      <td>YES</td>\n",
       "    </tr>\n",
       "    <tr>\n",
       "      <th>2</th>\n",
       "      <td>F</td>\n",
       "      <td>59</td>\n",
       "      <td>1</td>\n",
       "      <td>1</td>\n",
       "      <td>1</td>\n",
       "      <td>2</td>\n",
       "      <td>1</td>\n",
       "      <td>2</td>\n",
       "      <td>1</td>\n",
       "      <td>2</td>\n",
       "      <td>1</td>\n",
       "      <td>2</td>\n",
       "      <td>2</td>\n",
       "      <td>1</td>\n",
       "      <td>2</td>\n",
       "      <td>NO</td>\n",
       "    </tr>\n",
       "    <tr>\n",
       "      <th>3</th>\n",
       "      <td>M</td>\n",
       "      <td>63</td>\n",
       "      <td>2</td>\n",
       "      <td>2</td>\n",
       "      <td>2</td>\n",
       "      <td>1</td>\n",
       "      <td>1</td>\n",
       "      <td>1</td>\n",
       "      <td>1</td>\n",
       "      <td>1</td>\n",
       "      <td>2</td>\n",
       "      <td>1</td>\n",
       "      <td>1</td>\n",
       "      <td>2</td>\n",
       "      <td>2</td>\n",
       "      <td>NO</td>\n",
       "    </tr>\n",
       "    <tr>\n",
       "      <th>4</th>\n",
       "      <td>F</td>\n",
       "      <td>63</td>\n",
       "      <td>1</td>\n",
       "      <td>2</td>\n",
       "      <td>1</td>\n",
       "      <td>1</td>\n",
       "      <td>1</td>\n",
       "      <td>1</td>\n",
       "      <td>1</td>\n",
       "      <td>2</td>\n",
       "      <td>1</td>\n",
       "      <td>2</td>\n",
       "      <td>2</td>\n",
       "      <td>1</td>\n",
       "      <td>1</td>\n",
       "      <td>NO</td>\n",
       "    </tr>\n",
       "  </tbody>\n",
       "</table>\n",
       "</div>"
      ],
      "text/plain": [
       "  GENDER  AGE  SMOKING  YELLOW_FINGERS  ANXIETY  PEER_PRESSURE  \\\n",
       "0      M   69        1               2        2              1   \n",
       "1      M   74        2               1        1              1   \n",
       "2      F   59        1               1        1              2   \n",
       "3      M   63        2               2        2              1   \n",
       "4      F   63        1               2        1              1   \n",
       "\n",
       "   CHRONIC DISEASE  FATIGUE   ALLERGY   WHEEZING  ALCOHOL CONSUMING  COUGHING  \\\n",
       "0                1         2         1         2                  2         2   \n",
       "1                2         2         2         1                  1         1   \n",
       "2                1         2         1         2                  1         2   \n",
       "3                1         1         1         1                  2         1   \n",
       "4                1         1         1         2                  1         2   \n",
       "\n",
       "   SHORTNESS OF BREATH  SWALLOWING DIFFICULTY  CHEST PAIN LUNG_CANCER  \n",
       "0                    2                      2           2         YES  \n",
       "1                    2                      2           2         YES  \n",
       "2                    2                      1           2          NO  \n",
       "3                    1                      2           2          NO  \n",
       "4                    2                      1           1          NO  "
      ]
     },
     "execution_count": 3,
     "metadata": {},
     "output_type": "execute_result"
    }
   ],
   "source": [
    "#printing the first five element of data set \n",
    "df.head()"
   ]
  },
  {
   "cell_type": "markdown",
   "metadata": {},
   "source": [
    "smoking \n",
    "1 = no 2 = yes\n",
    "\n",
    "yellow_fingers \n",
    "1 = no 2 = yes\n",
    "\n",
    "anxiety \n",
    "1 = no 2 = yes \n",
    "\n",
    "peer pressue \n",
    "1 = no 2 = yes \n",
    "\n",
    "chronic disease \n",
    "1 = no  2 = yes \n",
    "\n",
    "similarly for all other columns of a data set "
   ]
  },
  {
   "cell_type": "code",
   "execution_count": 4,
   "metadata": {},
   "outputs": [
    {
     "data": {
      "text/plain": [
       "Index(['GENDER', 'AGE', 'SMOKING', 'YELLOW_FINGERS', 'ANXIETY',\n",
       "       'PEER_PRESSURE', 'CHRONIC DISEASE', 'FATIGUE ', 'ALLERGY ', 'WHEEZING',\n",
       "       'ALCOHOL CONSUMING', 'COUGHING', 'SHORTNESS OF BREATH',\n",
       "       'SWALLOWING DIFFICULTY', 'CHEST PAIN', 'LUNG_CANCER'],\n",
       "      dtype='object')"
      ]
     },
     "execution_count": 4,
     "metadata": {},
     "output_type": "execute_result"
    }
   ],
   "source": [
    "# printing the columsn \n",
    "df.columns"
   ]
  },
  {
   "cell_type": "code",
   "execution_count": 5,
   "metadata": {},
   "outputs": [
    {
     "data": {
      "text/plain": [
       "array(['M', 'F'], dtype=object)"
      ]
     },
     "execution_count": 5,
     "metadata": {},
     "output_type": "execute_result"
    }
   ],
   "source": [
    "#printing unique value in the Gender \n",
    "df['GENDER'].unique()"
   ]
  },
  {
   "cell_type": "code",
   "execution_count": 6,
   "metadata": {},
   "outputs": [
    {
     "data": {
      "text/plain": [
       "array([69, 74, 59, 63, 75, 52, 51, 68, 53, 61, 72, 60, 58, 48, 57, 44, 64,\n",
       "       21, 65, 55, 62, 56, 67, 77, 70, 54, 49, 73, 47, 71, 66, 76, 78, 81,\n",
       "       79, 38, 39, 87, 46], dtype=int64)"
      ]
     },
     "execution_count": 6,
     "metadata": {},
     "output_type": "execute_result"
    }
   ],
   "source": [
    "df['AGE'].unique()"
   ]
  },
  {
   "cell_type": "code",
   "execution_count": 7,
   "metadata": {},
   "outputs": [
    {
     "name": "stdout",
     "output_type": "stream",
     "text": [
      "GENDER\n",
      "['M' 'F']\n",
      "AGE\n",
      "[69 74 59 63 75 52 51 68 53 61 72 60 58 48 57 44 64 21 65 55 62 56 67 77\n",
      " 70 54 49 73 47 71 66 76 78 81 79 38 39 87 46]\n",
      "SMOKING\n",
      "[1 2]\n",
      "YELLOW_FINGERS\n",
      "[2 1]\n",
      "ANXIETY\n",
      "[2 1]\n",
      "PEER_PRESSURE\n",
      "[1 2]\n",
      "CHRONIC DISEASE\n",
      "[1 2]\n",
      "FATIGUE \n",
      "[2 1]\n",
      "ALLERGY \n",
      "[1 2]\n",
      "WHEEZING\n",
      "[2 1]\n",
      "ALCOHOL CONSUMING\n",
      "[2 1]\n",
      "COUGHING\n",
      "[2 1]\n",
      "SHORTNESS OF BREATH\n",
      "[2 1]\n",
      "SWALLOWING DIFFICULTY\n",
      "[2 1]\n",
      "CHEST PAIN\n",
      "[2 1]\n",
      "LUNG_CANCER\n",
      "['YES' 'NO']\n"
     ]
    }
   ],
   "source": [
    "# checking all the unique value of a columns \n",
    "for col in df.columns:\n",
    "    unique_value = df[col].unique()\n",
    "    print(col)\n",
    "    print(unique_value)"
   ]
  },
  {
   "cell_type": "code",
   "execution_count": 8,
   "metadata": {},
   "outputs": [
    {
     "data": {
      "text/plain": [
       "(309, 16)"
      ]
     },
     "execution_count": 8,
     "metadata": {},
     "output_type": "execute_result"
    }
   ],
   "source": [
    "df.shape"
   ]
  },
  {
   "cell_type": "markdown",
   "metadata": {},
   "source": [
    "so we have 309 rows and 16 columns "
   ]
  },
  {
   "cell_type": "code",
   "execution_count": 9,
   "metadata": {},
   "outputs": [],
   "source": [
    "gender_lungcancer = df.groupby(['GENDER', 'LUNG_CANCER']).size().reset_index(name='Count')"
   ]
  },
  {
   "cell_type": "code",
   "execution_count": 10,
   "metadata": {},
   "outputs": [
    {
     "data": {
      "text/html": [
       "<div>\n",
       "<style scoped>\n",
       "    .dataframe tbody tr th:only-of-type {\n",
       "        vertical-align: middle;\n",
       "    }\n",
       "\n",
       "    .dataframe tbody tr th {\n",
       "        vertical-align: top;\n",
       "    }\n",
       "\n",
       "    .dataframe thead th {\n",
       "        text-align: right;\n",
       "    }\n",
       "</style>\n",
       "<table border=\"1\" class=\"dataframe\">\n",
       "  <thead>\n",
       "    <tr style=\"text-align: right;\">\n",
       "      <th></th>\n",
       "      <th>GENDER</th>\n",
       "      <th>LUNG_CANCER</th>\n",
       "      <th>Count</th>\n",
       "    </tr>\n",
       "  </thead>\n",
       "  <tbody>\n",
       "    <tr>\n",
       "      <th>0</th>\n",
       "      <td>F</td>\n",
       "      <td>NO</td>\n",
       "      <td>22</td>\n",
       "    </tr>\n",
       "    <tr>\n",
       "      <th>1</th>\n",
       "      <td>F</td>\n",
       "      <td>YES</td>\n",
       "      <td>125</td>\n",
       "    </tr>\n",
       "    <tr>\n",
       "      <th>2</th>\n",
       "      <td>M</td>\n",
       "      <td>NO</td>\n",
       "      <td>17</td>\n",
       "    </tr>\n",
       "    <tr>\n",
       "      <th>3</th>\n",
       "      <td>M</td>\n",
       "      <td>YES</td>\n",
       "      <td>145</td>\n",
       "    </tr>\n",
       "  </tbody>\n",
       "</table>\n",
       "</div>"
      ],
      "text/plain": [
       "  GENDER LUNG_CANCER  Count\n",
       "0      F          NO     22\n",
       "1      F         YES    125\n",
       "2      M          NO     17\n",
       "3      M         YES    145"
      ]
     },
     "execution_count": 10,
     "metadata": {},
     "output_type": "execute_result"
    }
   ],
   "source": [
    "gender_lungcancer"
   ]
  },
  {
   "cell_type": "code",
   "execution_count": 11,
   "metadata": {},
   "outputs": [],
   "source": [
    "gender_lungcancer_pivot_table = gender_lungcancer.pivot(index='GENDER', columns='LUNG_CANCER', values='Count')"
   ]
  },
  {
   "cell_type": "code",
   "execution_count": 12,
   "metadata": {},
   "outputs": [
    {
     "data": {
      "text/html": [
       "<div>\n",
       "<style scoped>\n",
       "    .dataframe tbody tr th:only-of-type {\n",
       "        vertical-align: middle;\n",
       "    }\n",
       "\n",
       "    .dataframe tbody tr th {\n",
       "        vertical-align: top;\n",
       "    }\n",
       "\n",
       "    .dataframe thead th {\n",
       "        text-align: right;\n",
       "    }\n",
       "</style>\n",
       "<table border=\"1\" class=\"dataframe\">\n",
       "  <thead>\n",
       "    <tr style=\"text-align: right;\">\n",
       "      <th>LUNG_CANCER</th>\n",
       "      <th>NO</th>\n",
       "      <th>YES</th>\n",
       "    </tr>\n",
       "    <tr>\n",
       "      <th>GENDER</th>\n",
       "      <th></th>\n",
       "      <th></th>\n",
       "    </tr>\n",
       "  </thead>\n",
       "  <tbody>\n",
       "    <tr>\n",
       "      <th>F</th>\n",
       "      <td>22</td>\n",
       "      <td>125</td>\n",
       "    </tr>\n",
       "    <tr>\n",
       "      <th>M</th>\n",
       "      <td>17</td>\n",
       "      <td>145</td>\n",
       "    </tr>\n",
       "  </tbody>\n",
       "</table>\n",
       "</div>"
      ],
      "text/plain": [
       "LUNG_CANCER  NO  YES\n",
       "GENDER              \n",
       "F            22  125\n",
       "M            17  145"
      ]
     },
     "execution_count": 12,
     "metadata": {},
     "output_type": "execute_result"
    }
   ],
   "source": [
    "gender_lungcancer_pivot_table"
   ]
  },
  {
   "cell_type": "code",
   "execution_count": 13,
   "metadata": {},
   "outputs": [
    {
     "data": {
      "image/png": "[encoded data removed]",
      "text/plain": [
       "<Figure size 640x480 with 1 Axes>"
      ]
     },
     "metadata": {},
     "output_type": "display_data"
    }
   ],
   "source": [
    "gender_lungcancer_pivot_table.plot(kind='bar')\n",
    "plt.xlabel('Gender')\n",
    "plt.ylabel('Count')\n",
    "plt.title('Number of Individuals with and without Lung Disease by Gender')\n",
    "plt.legend(title='Lung Disease', loc='upper right')\n",
    "plt.show()"
   ]
  },
  {
   "cell_type": "code",
   "execution_count": 14,
   "metadata": {},
   "outputs": [],
   "source": [
    "chronic_smoking_cancer = df.groupby(['CHRONIC DISEASE','SMOKING', 'LUNG_CANCER']).size().reset_index(name='Count')"
   ]
  },
  {
   "cell_type": "code",
   "execution_count": 15,
   "metadata": {},
   "outputs": [
    {
     "data": {
      "text/html": [
       "<div>\n",
       "<style scoped>\n",
       "    .dataframe tbody tr th:only-of-type {\n",
       "        vertical-align: middle;\n",
       "    }\n",
       "\n",
       "    .dataframe tbody tr th {\n",
       "        vertical-align: top;\n",
       "    }\n",
       "\n",
       "    .dataframe thead th {\n",
       "        text-align: right;\n",
       "    }\n",
       "</style>\n",
       "<table border=\"1\" class=\"dataframe\">\n",
       "  <thead>\n",
       "    <tr style=\"text-align: right;\">\n",
       "      <th></th>\n",
       "      <th>CHRONIC DISEASE</th>\n",
       "      <th>SMOKING</th>\n",
       "      <th>LUNG_CANCER</th>\n",
       "      <th>Count</th>\n",
       "    </tr>\n",
       "  </thead>\n",
       "  <tbody>\n",
       "    <tr>\n",
       "      <th>0</th>\n",
       "      <td>1</td>\n",
       "      <td>1</td>\n",
       "      <td>NO</td>\n",
       "      <td>11</td>\n",
       "    </tr>\n",
       "    <tr>\n",
       "      <th>1</th>\n",
       "      <td>1</td>\n",
       "      <td>1</td>\n",
       "      <td>YES</td>\n",
       "      <td>45</td>\n",
       "    </tr>\n",
       "    <tr>\n",
       "      <th>2</th>\n",
       "      <td>1</td>\n",
       "      <td>2</td>\n",
       "      <td>NO</td>\n",
       "      <td>14</td>\n",
       "    </tr>\n",
       "    <tr>\n",
       "      <th>3</th>\n",
       "      <td>1</td>\n",
       "      <td>2</td>\n",
       "      <td>YES</td>\n",
       "      <td>83</td>\n",
       "    </tr>\n",
       "    <tr>\n",
       "      <th>4</th>\n",
       "      <td>2</td>\n",
       "      <td>1</td>\n",
       "      <td>NO</td>\n",
       "      <td>9</td>\n",
       "    </tr>\n",
       "    <tr>\n",
       "      <th>5</th>\n",
       "      <td>2</td>\n",
       "      <td>1</td>\n",
       "      <td>YES</td>\n",
       "      <td>70</td>\n",
       "    </tr>\n",
       "    <tr>\n",
       "      <th>6</th>\n",
       "      <td>2</td>\n",
       "      <td>2</td>\n",
       "      <td>NO</td>\n",
       "      <td>5</td>\n",
       "    </tr>\n",
       "    <tr>\n",
       "      <th>7</th>\n",
       "      <td>2</td>\n",
       "      <td>2</td>\n",
       "      <td>YES</td>\n",
       "      <td>72</td>\n",
       "    </tr>\n",
       "  </tbody>\n",
       "</table>\n",
       "</div>"
      ],
      "text/plain": [
       "   CHRONIC DISEASE  SMOKING LUNG_CANCER  Count\n",
       "0                1        1          NO     11\n",
       "1                1        1         YES     45\n",
       "2                1        2          NO     14\n",
       "3                1        2         YES     83\n",
       "4                2        1          NO      9\n",
       "5                2        1         YES     70\n",
       "6                2        2          NO      5\n",
       "7                2        2         YES     72"
      ]
     },
     "execution_count": 15,
     "metadata": {},
     "output_type": "execute_result"
    }
   ],
   "source": [
    "chronic_smoking_cancer"
   ]
  },
  {
   "cell_type": "code",
   "execution_count": 16,
   "metadata": {},
   "outputs": [],
   "source": [
    "smoking_cancer = df.groupby(['SMOKING', 'LUNG_CANCER']).size().reset_index(name='Count')"
   ]
  },
  {
   "cell_type": "code",
   "execution_count": 17,
   "metadata": {},
   "outputs": [
    {
     "data": {
      "text/html": [
       "<div>\n",
       "<style scoped>\n",
       "    .dataframe tbody tr th:only-of-type {\n",
       "        vertical-align: middle;\n",
       "    }\n",
       "\n",
       "    .dataframe tbody tr th {\n",
       "        vertical-align: top;\n",
       "    }\n",
       "\n",
       "    .dataframe thead th {\n",
       "        text-align: right;\n",
       "    }\n",
       "</style>\n",
       "<table border=\"1\" class=\"dataframe\">\n",
       "  <thead>\n",
       "    <tr style=\"text-align: right;\">\n",
       "      <th></th>\n",
       "      <th>SMOKING</th>\n",
       "      <th>LUNG_CANCER</th>\n",
       "      <th>Count</th>\n",
       "    </tr>\n",
       "  </thead>\n",
       "  <tbody>\n",
       "    <tr>\n",
       "      <th>0</th>\n",
       "      <td>1</td>\n",
       "      <td>NO</td>\n",
       "      <td>20</td>\n",
       "    </tr>\n",
       "    <tr>\n",
       "      <th>1</th>\n",
       "      <td>1</td>\n",
       "      <td>YES</td>\n",
       "      <td>115</td>\n",
       "    </tr>\n",
       "    <tr>\n",
       "      <th>2</th>\n",
       "      <td>2</td>\n",
       "      <td>NO</td>\n",
       "      <td>19</td>\n",
       "    </tr>\n",
       "    <tr>\n",
       "      <th>3</th>\n",
       "      <td>2</td>\n",
       "      <td>YES</td>\n",
       "      <td>155</td>\n",
       "    </tr>\n",
       "  </tbody>\n",
       "</table>\n",
       "</div>"
      ],
      "text/plain": [
       "   SMOKING LUNG_CANCER  Count\n",
       "0        1          NO     20\n",
       "1        1         YES    115\n",
       "2        2          NO     19\n",
       "3        2         YES    155"
      ]
     },
     "execution_count": 17,
     "metadata": {},
     "output_type": "execute_result"
    }
   ],
   "source": [
    "smoking_cancer"
   ]
  },
  {
   "cell_type": "code",
   "execution_count": 18,
   "metadata": {},
   "outputs": [],
   "source": [
    "chronic_cancer = df.groupby(['CHRONIC DISEASE', 'LUNG_CANCER']).size().reset_index(name='Count')"
   ]
  },
  {
   "cell_type": "code",
   "execution_count": 19,
   "metadata": {},
   "outputs": [
    {
     "data": {
      "text/html": [
       "<div>\n",
       "<style scoped>\n",
       "    .dataframe tbody tr th:only-of-type {\n",
       "        vertical-align: middle;\n",
       "    }\n",
       "\n",
       "    .dataframe tbody tr th {\n",
       "        vertical-align: top;\n",
       "    }\n",
       "\n",
       "    .dataframe thead th {\n",
       "        text-align: right;\n",
       "    }\n",
       "</style>\n",
       "<table border=\"1\" class=\"dataframe\">\n",
       "  <thead>\n",
       "    <tr style=\"text-align: right;\">\n",
       "      <th></th>\n",
       "      <th>CHRONIC DISEASE</th>\n",
       "      <th>LUNG_CANCER</th>\n",
       "      <th>Count</th>\n",
       "    </tr>\n",
       "  </thead>\n",
       "  <tbody>\n",
       "    <tr>\n",
       "      <th>0</th>\n",
       "      <td>1</td>\n",
       "      <td>NO</td>\n",
       "      <td>25</td>\n",
       "    </tr>\n",
       "    <tr>\n",
       "      <th>1</th>\n",
       "      <td>1</td>\n",
       "      <td>YES</td>\n",
       "      <td>128</td>\n",
       "    </tr>\n",
       "    <tr>\n",
       "      <th>2</th>\n",
       "      <td>2</td>\n",
       "      <td>NO</td>\n",
       "      <td>14</td>\n",
       "    </tr>\n",
       "    <tr>\n",
       "      <th>3</th>\n",
       "      <td>2</td>\n",
       "      <td>YES</td>\n",
       "      <td>142</td>\n",
       "    </tr>\n",
       "  </tbody>\n",
       "</table>\n",
       "</div>"
      ],
      "text/plain": [
       "   CHRONIC DISEASE LUNG_CANCER  Count\n",
       "0                1          NO     25\n",
       "1                1         YES    128\n",
       "2                2          NO     14\n",
       "3                2         YES    142"
      ]
     },
     "execution_count": 19,
     "metadata": {},
     "output_type": "execute_result"
    }
   ],
   "source": [
    "chronic_cancer"
   ]
  },
  {
   "cell_type": "code",
   "execution_count": 20,
   "metadata": {},
   "outputs": [],
   "source": [
    "alcohol_cancer = df.groupby(['ALCOHOL CONSUMING', 'LUNG_CANCER']).size().reset_index(name='Count')"
   ]
  },
  {
   "cell_type": "code",
   "execution_count": 21,
   "metadata": {},
   "outputs": [
    {
     "data": {
      "text/html": [
       "<div>\n",
       "<style scoped>\n",
       "    .dataframe tbody tr th:only-of-type {\n",
       "        vertical-align: middle;\n",
       "    }\n",
       "\n",
       "    .dataframe tbody tr th {\n",
       "        vertical-align: top;\n",
       "    }\n",
       "\n",
       "    .dataframe thead th {\n",
       "        text-align: right;\n",
       "    }\n",
       "</style>\n",
       "<table border=\"1\" class=\"dataframe\">\n",
       "  <thead>\n",
       "    <tr style=\"text-align: right;\">\n",
       "      <th></th>\n",
       "      <th>ALCOHOL CONSUMING</th>\n",
       "      <th>LUNG_CANCER</th>\n",
       "      <th>Count</th>\n",
       "    </tr>\n",
       "  </thead>\n",
       "  <tbody>\n",
       "    <tr>\n",
       "      <th>0</th>\n",
       "      <td>1</td>\n",
       "      <td>NO</td>\n",
       "      <td>32</td>\n",
       "    </tr>\n",
       "    <tr>\n",
       "      <th>1</th>\n",
       "      <td>1</td>\n",
       "      <td>YES</td>\n",
       "      <td>105</td>\n",
       "    </tr>\n",
       "    <tr>\n",
       "      <th>2</th>\n",
       "      <td>2</td>\n",
       "      <td>NO</td>\n",
       "      <td>7</td>\n",
       "    </tr>\n",
       "    <tr>\n",
       "      <th>3</th>\n",
       "      <td>2</td>\n",
       "      <td>YES</td>\n",
       "      <td>165</td>\n",
       "    </tr>\n",
       "  </tbody>\n",
       "</table>\n",
       "</div>"
      ],
      "text/plain": [
       "   ALCOHOL CONSUMING LUNG_CANCER  Count\n",
       "0                  1          NO     32\n",
       "1                  1         YES    105\n",
       "2                  2          NO      7\n",
       "3                  2         YES    165"
      ]
     },
     "execution_count": 21,
     "metadata": {},
     "output_type": "execute_result"
    }
   ],
   "source": [
    "alcohol_cancer"
   ]
  },
  {
   "cell_type": "code",
   "execution_count": 22,
   "metadata": {},
   "outputs": [
    {
     "data": {
      "image/png": "[encoded data removed]",
      "text/plain": [
       "<Figure size 640x480 with 1 Axes>"
      ]
     },
     "metadata": {},
     "output_type": "display_data"
    },
    {
     "data": {
      "image/png": "[encoded data removed]",
      "text/plain": [
       "<Figure size 640x480 with 1 Axes>"
      ]
     },
     "metadata": {},
     "output_type": "display_data"
    },
    {
     "data": {
      "image/png": "[encoded data removed]",
      "text/plain": [
       "<Figure size 640x480 with 1 Axes>"
      ]
     },
     "metadata": {},
     "output_type": "display_data"
    },
    {
     "data": {
      "image/png": "[encoded data removed]",
      "text/plain": [
       "<Figure size 640x480 with 1 Axes>"
      ]
     },
     "metadata": {},
     "output_type": "display_data"
    },
    {
     "data": {
      "image/png": "[encoded data removed]",
      "text/plain": [
       "<Figure size 640x480 with 1 Axes>"
      ]
     },
     "metadata": {},
     "output_type": "display_data"
    },
    {
     "data": {
      "image/png": "[encoded data removed]",
      "text/plain": [
       "<Figure size 640x480 with 1 Axes>"
      ]
     },
     "metadata": {},
     "output_type": "display_data"
    },
    {
     "data": {
      "image/png": "[encoded data removed]",
      "text/plain": [
       "<Figure size 640x480 with 1 Axes>"
      ]
     },
     "metadata": {},
     "output_type": "display_data"
    },
    {
     "data": {
      "image/png": "[encoded data removed]",
      "text/plain": [
       "<Figure size 640x480 with 1 Axes>"
      ]
     },
     "metadata": {},
     "output_type": "display_data"
    },
    {
     "data": {
      "image/png": "[encoded data removed]",
      "text/plain": [
       "<Figure size 640x480 with 1 Axes>"
      ]
     },
     "metadata": {},
     "output_type": "display_data"
    },
    {
     "data": {
      "image/png": "[encoded data removed]",
      "text/plain": [
       "<Figure size 640x480 with 1 Axes>"
      ]
     },
     "metadata": {},
     "output_type": "display_data"
    },
    {
     "data": {
      "image/png": "[encoded data removed]",
      "text/plain": [
       "<Figure size 640x480 with 1 Axes>"
      ]
     },
     "metadata": {},
     "output_type": "display_data"
    },
    {
     "data": {
      "image/png": "[encoded data removed]",
      "text/plain": [
       "<Figure size 640x480 with 1 Axes>"
      ]
     },
     "metadata": {},
     "output_type": "display_data"
    },
    {
     "data": {
      "image/png": "[encoded data removed]",
      "text/plain": [
       "<Figure size 640x480 with 1 Axes>"
      ]
     },
     "metadata": {},
     "output_type": "display_data"
    },
    {
     "data": {
      "image/png": "[encoded data removed]",
      "text/plain": [
       "<Figure size 640x480 with 1 Axes>"
      ]
     },
     "metadata": {},
     "output_type": "display_data"
    }
   ],
   "source": [
    "for col in df.columns:\n",
    "    if col != 'LUNG_CANCER'and col != 'AGE':\n",
    "        var = df.groupby([col, 'LUNG_CANCER']).size().reset_index(name='Count')\n",
    "        var1 = var.pivot(index=col, columns='LUNG_CANCER', values='Count')\n",
    "        var1.plot(kind='bar')\n",
    "        plt.xlabel('col')\n",
    "        plt.ylabel('Count')\n",
    "        plt.title(f'Number of Individuals with and without Lung Disease by {col}')\n",
    "        plt.legend(title='Lung Disease', loc='upper right')\n",
    "        plt.show()\n",
    "        "
   ]
  },
  {
   "cell_type": "code",
   "execution_count": 23,
   "metadata": {},
   "outputs": [],
   "source": [
    "from sklearn.decomposition import  PCA"
   ]
  },
  {
   "cell_type": "code",
   "execution_count": 24,
   "metadata": {},
   "outputs": [
    {
     "data": {
      "text/plain": [
       "16"
      ]
     },
     "execution_count": 24,
     "metadata": {},
     "output_type": "execute_result"
    }
   ],
   "source": [
    "df.columns.size"
   ]
  },
  {
   "cell_type": "code",
   "execution_count": 25,
   "metadata": {},
   "outputs": [
    {
     "data": {
      "text/plain": [
       "Index(['GENDER', 'AGE', 'SMOKING', 'YELLOW_FINGERS', 'ANXIETY',\n",
       "       'PEER_PRESSURE', 'CHRONIC DISEASE', 'FATIGUE ', 'ALLERGY ', 'WHEEZING',\n",
       "       'ALCOHOL CONSUMING', 'COUGHING', 'SHORTNESS OF BREATH',\n",
       "       'SWALLOWING DIFFICULTY', 'CHEST PAIN', 'LUNG_CANCER'],\n",
       "      dtype='object')"
      ]
     },
     "execution_count": 25,
     "metadata": {},
     "output_type": "execute_result"
    }
   ],
   "source": [
    "df.columns"
   ]
  },
  {
   "cell_type": "code",
   "execution_count": 26,
   "metadata": {},
   "outputs": [],
   "source": [
    "# we have to convert gender into numeric data that is 0 and 1 for pca analysis and further training \n",
    "from sklearn.preprocessing import LabelEncoder"
   ]
  },
  {
   "cell_type": "code",
   "execution_count": 27,
   "metadata": {},
   "outputs": [],
   "source": [
    "label_encoder = LabelEncoder()\n",
    "df['GENDER'] = label_encoder.fit_transform(df['GENDER'])\n",
    "df['LUNG_CANCER'] = label_encoder.fit_transform(df['LUNG_CANCER'])"
   ]
  },
  {
   "cell_type": "code",
   "execution_count": 28,
   "metadata": {},
   "outputs": [
    {
     "data": {
      "text/plain": [
       "<bound method NDFrame.head of      GENDER  AGE  SMOKING  YELLOW_FINGERS  ANXIETY  PEER_PRESSURE  \\\n",
       "0         1   69        1               2        2              1   \n",
       "1         1   74        2               1        1              1   \n",
       "2         0   59        1               1        1              2   \n",
       "3         1   63        2               2        2              1   \n",
       "4         0   63        1               2        1              1   \n",
       "..      ...  ...      ...             ...      ...            ...   \n",
       "304       0   56        1               1        1              2   \n",
       "305       1   70        2               1        1              1   \n",
       "306       1   58        2               1        1              1   \n",
       "307       1   67        2               1        2              1   \n",
       "308       1   62        1               1        1              2   \n",
       "\n",
       "     CHRONIC DISEASE  FATIGUE   ALLERGY   WHEEZING  ALCOHOL CONSUMING  \\\n",
       "0                  1         2         1         2                  2   \n",
       "1                  2         2         2         1                  1   \n",
       "2                  1         2         1         2                  1   \n",
       "3                  1         1         1         1                  2   \n",
       "4                  1         1         1         2                  1   \n",
       "..               ...       ...       ...       ...                ...   \n",
       "304                2         2         1         1                  2   \n",
       "305                1         2         2         2                  2   \n",
       "306                1         1         2         2                  2   \n",
       "307                1         2         2         1                  2   \n",
       "308                1         2         2         2                  2   \n",
       "\n",
       "     COUGHING  SHORTNESS OF BREATH  SWALLOWING DIFFICULTY  CHEST PAIN  \\\n",
       "0           2                    2                      2           2   \n",
       "1           1                    2                      2           2   \n",
       "2           2                    2                      1           2   \n",
       "3           1                    1                      2           2   \n",
       "4           2                    2                      1           1   \n",
       "..        ...                  ...                    ...         ...   \n",
       "304         2                    2                      2           1   \n",
       "305         2                    2                      1           2   \n",
       "306         2                    1                      1           2   \n",
       "307         2                    2                      1           2   \n",
       "308         1                    1                      2           1   \n",
       "\n",
       "     LUNG_CANCER  \n",
       "0              1  \n",
       "1              1  \n",
       "2              0  \n",
       "3              0  \n",
       "4              0  \n",
       "..           ...  \n",
       "304            1  \n",
       "305            1  \n",
       "306            1  \n",
       "307            1  \n",
       "308            1  \n",
       "\n",
       "[309 rows x 16 columns]>"
      ]
     },
     "execution_count": 28,
     "metadata": {},
     "output_type": "execute_result"
    }
   ],
   "source": [
    "df.head"
   ]
  },
  {
   "cell_type": "code",
   "execution_count": 29,
   "metadata": {},
   "outputs": [],
   "source": [
    "pca_1 = PCA(n_components=3)\n"
   ]
  },
  {
   "cell_type": "code",
   "execution_count": 30,
   "metadata": {},
   "outputs": [],
   "source": [
    "df_pca = df.drop(columns=['LUNG_CANCER'])"
   ]
  },
  {
   "cell_type": "code",
   "execution_count": 31,
   "metadata": {},
   "outputs": [
    {
     "data": {
      "text/html": [
       "<div>\n",
       "<style scoped>\n",
       "    .dataframe tbody tr th:only-of-type {\n",
       "        vertical-align: middle;\n",
       "    }\n",
       "\n",
       "    .dataframe tbody tr th {\n",
       "        vertical-align: top;\n",
       "    }\n",
       "\n",
       "    .dataframe thead th {\n",
       "        text-align: right;\n",
       "    }\n",
       "</style>\n",
       "<table border=\"1\" class=\"dataframe\">\n",
       "  <thead>\n",
       "    <tr style=\"text-align: right;\">\n",
       "      <th></th>\n",
       "      <th>GENDER</th>\n",
       "      <th>AGE</th>\n",
       "      <th>SMOKING</th>\n",
       "      <th>YELLOW_FINGERS</th>\n",
       "      <th>ANXIETY</th>\n",
       "      <th>PEER_PRESSURE</th>\n",
       "      <th>CHRONIC DISEASE</th>\n",
       "      <th>FATIGUE</th>\n",
       "      <th>ALLERGY</th>\n",
       "      <th>WHEEZING</th>\n",
       "      <th>ALCOHOL CONSUMING</th>\n",
       "      <th>COUGHING</th>\n",
       "      <th>SHORTNESS OF BREATH</th>\n",
       "      <th>SWALLOWING DIFFICULTY</th>\n",
       "      <th>CHEST PAIN</th>\n",
       "    </tr>\n",
       "  </thead>\n",
       "  <tbody>\n",
       "    <tr>\n",
       "      <th>0</th>\n",
       "      <td>1</td>\n",
       "      <td>69</td>\n",
       "      <td>1</td>\n",
       "      <td>2</td>\n",
       "      <td>2</td>\n",
       "      <td>1</td>\n",
       "      <td>1</td>\n",
       "      <td>2</td>\n",
       "      <td>1</td>\n",
       "      <td>2</td>\n",
       "      <td>2</td>\n",
       "      <td>2</td>\n",
       "      <td>2</td>\n",
       "      <td>2</td>\n",
       "      <td>2</td>\n",
       "    </tr>\n",
       "    <tr>\n",
       "      <th>1</th>\n",
       "      <td>1</td>\n",
       "      <td>74</td>\n",
       "      <td>2</td>\n",
       "      <td>1</td>\n",
       "      <td>1</td>\n",
       "      <td>1</td>\n",
       "      <td>2</td>\n",
       "      <td>2</td>\n",
       "      <td>2</td>\n",
       "      <td>1</td>\n",
       "      <td>1</td>\n",
       "      <td>1</td>\n",
       "      <td>2</td>\n",
       "      <td>2</td>\n",
       "      <td>2</td>\n",
       "    </tr>\n",
       "    <tr>\n",
       "      <th>2</th>\n",
       "      <td>0</td>\n",
       "      <td>59</td>\n",
       "      <td>1</td>\n",
       "      <td>1</td>\n",
       "      <td>1</td>\n",
       "      <td>2</td>\n",
       "      <td>1</td>\n",
       "      <td>2</td>\n",
       "      <td>1</td>\n",
       "      <td>2</td>\n",
       "      <td>1</td>\n",
       "      <td>2</td>\n",
       "      <td>2</td>\n",
       "      <td>1</td>\n",
       "      <td>2</td>\n",
       "    </tr>\n",
       "    <tr>\n",
       "      <th>3</th>\n",
       "      <td>1</td>\n",
       "      <td>63</td>\n",
       "      <td>2</td>\n",
       "      <td>2</td>\n",
       "      <td>2</td>\n",
       "      <td>1</td>\n",
       "      <td>1</td>\n",
       "      <td>1</td>\n",
       "      <td>1</td>\n",
       "      <td>1</td>\n",
       "      <td>2</td>\n",
       "      <td>1</td>\n",
       "      <td>1</td>\n",
       "      <td>2</td>\n",
       "      <td>2</td>\n",
       "    </tr>\n",
       "    <tr>\n",
       "      <th>4</th>\n",
       "      <td>0</td>\n",
       "      <td>63</td>\n",
       "      <td>1</td>\n",
       "      <td>2</td>\n",
       "      <td>1</td>\n",
       "      <td>1</td>\n",
       "      <td>1</td>\n",
       "      <td>1</td>\n",
       "      <td>1</td>\n",
       "      <td>2</td>\n",
       "      <td>1</td>\n",
       "      <td>2</td>\n",
       "      <td>2</td>\n",
       "      <td>1</td>\n",
       "      <td>1</td>\n",
       "    </tr>\n",
       "    <tr>\n",
       "      <th>...</th>\n",
       "      <td>...</td>\n",
       "      <td>...</td>\n",
       "      <td>...</td>\n",
       "      <td>...</td>\n",
       "      <td>...</td>\n",
       "      <td>...</td>\n",
       "      <td>...</td>\n",
       "      <td>...</td>\n",
       "      <td>...</td>\n",
       "      <td>...</td>\n",
       "      <td>...</td>\n",
       "      <td>...</td>\n",
       "      <td>...</td>\n",
       "      <td>...</td>\n",
       "      <td>...</td>\n",
       "    </tr>\n",
       "    <tr>\n",
       "      <th>304</th>\n",
       "      <td>0</td>\n",
       "      <td>56</td>\n",
       "      <td>1</td>\n",
       "      <td>1</td>\n",
       "      <td>1</td>\n",
       "      <td>2</td>\n",
       "      <td>2</td>\n",
       "      <td>2</td>\n",
       "      <td>1</td>\n",
       "      <td>1</td>\n",
       "      <td>2</td>\n",
       "      <td>2</td>\n",
       "      <td>2</td>\n",
       "      <td>2</td>\n",
       "      <td>1</td>\n",
       "    </tr>\n",
       "    <tr>\n",
       "      <th>305</th>\n",
       "      <td>1</td>\n",
       "      <td>70</td>\n",
       "      <td>2</td>\n",
       "      <td>1</td>\n",
       "      <td>1</td>\n",
       "      <td>1</td>\n",
       "      <td>1</td>\n",
       "      <td>2</td>\n",
       "      <td>2</td>\n",
       "      <td>2</td>\n",
       "      <td>2</td>\n",
       "      <td>2</td>\n",
       "      <td>2</td>\n",
       "      <td>1</td>\n",
       "      <td>2</td>\n",
       "    </tr>\n",
       "    <tr>\n",
       "      <th>306</th>\n",
       "      <td>1</td>\n",
       "      <td>58</td>\n",
       "      <td>2</td>\n",
       "      <td>1</td>\n",
       "      <td>1</td>\n",
       "      <td>1</td>\n",
       "      <td>1</td>\n",
       "      <td>1</td>\n",
       "      <td>2</td>\n",
       "      <td>2</td>\n",
       "      <td>2</td>\n",
       "      <td>2</td>\n",
       "      <td>1</td>\n",
       "      <td>1</td>\n",
       "      <td>2</td>\n",
       "    </tr>\n",
       "    <tr>\n",
       "      <th>307</th>\n",
       "      <td>1</td>\n",
       "      <td>67</td>\n",
       "      <td>2</td>\n",
       "      <td>1</td>\n",
       "      <td>2</td>\n",
       "      <td>1</td>\n",
       "      <td>1</td>\n",
       "      <td>2</td>\n",
       "      <td>2</td>\n",
       "      <td>1</td>\n",
       "      <td>2</td>\n",
       "      <td>2</td>\n",
       "      <td>2</td>\n",
       "      <td>1</td>\n",
       "      <td>2</td>\n",
       "    </tr>\n",
       "    <tr>\n",
       "      <th>308</th>\n",
       "      <td>1</td>\n",
       "      <td>62</td>\n",
       "      <td>1</td>\n",
       "      <td>1</td>\n",
       "      <td>1</td>\n",
       "      <td>2</td>\n",
       "      <td>1</td>\n",
       "      <td>2</td>\n",
       "      <td>2</td>\n",
       "      <td>2</td>\n",
       "      <td>2</td>\n",
       "      <td>1</td>\n",
       "      <td>1</td>\n",
       "      <td>2</td>\n",
       "      <td>1</td>\n",
       "    </tr>\n",
       "  </tbody>\n",
       "</table>\n",
       "<p>309 rows × 15 columns</p>\n",
       "</div>"
      ],
      "text/plain": [
       "     GENDER  AGE  SMOKING  YELLOW_FINGERS  ANXIETY  PEER_PRESSURE  \\\n",
       "0         1   69        1               2        2              1   \n",
       "1         1   74        2               1        1              1   \n",
       "2         0   59        1               1        1              2   \n",
       "3         1   63        2               2        2              1   \n",
       "4         0   63        1               2        1              1   \n",
       "..      ...  ...      ...             ...      ...            ...   \n",
       "304       0   56        1               1        1              2   \n",
       "305       1   70        2               1        1              1   \n",
       "306       1   58        2               1        1              1   \n",
       "307       1   67        2               1        2              1   \n",
       "308       1   62        1               1        1              2   \n",
       "\n",
       "     CHRONIC DISEASE  FATIGUE   ALLERGY   WHEEZING  ALCOHOL CONSUMING  \\\n",
       "0                  1         2         1         2                  2   \n",
       "1                  2         2         2         1                  1   \n",
       "2                  1         2         1         2                  1   \n",
       "3                  1         1         1         1                  2   \n",
       "4                  1         1         1         2                  1   \n",
       "..               ...       ...       ...       ...                ...   \n",
       "304                2         2         1         1                  2   \n",
       "305                1         2         2         2                  2   \n",
       "306                1         1         2         2                  2   \n",
       "307                1         2         2         1                  2   \n",
       "308                1         2         2         2                  2   \n",
       "\n",
       "     COUGHING  SHORTNESS OF BREATH  SWALLOWING DIFFICULTY  CHEST PAIN  \n",
       "0           2                    2                      2           2  \n",
       "1           1                    2                      2           2  \n",
       "2           2                    2                      1           2  \n",
       "3           1                    1                      2           2  \n",
       "4           2                    2                      1           1  \n",
       "..        ...                  ...                    ...         ...  \n",
       "304         2                    2                      2           1  \n",
       "305         2                    2                      1           2  \n",
       "306         2                    1                      1           2  \n",
       "307         2                    2                      1           2  \n",
       "308         1                    1                      2           1  \n",
       "\n",
       "[309 rows x 15 columns]"
      ]
     },
     "execution_count": 31,
     "metadata": {},
     "output_type": "execute_result"
    }
   ],
   "source": [
    "df_pca"
   ]
  },
  {
   "cell_type": "code",
   "execution_count": 32,
   "metadata": {},
   "outputs": [
    {
     "data": {
      "text/html": [
       "<style>#sk-container-id-1 {color: black;}#sk-container-id-1 pre{padding: 0;}#sk-container-id-1 div.sk-toggleable {background-color: white;}#sk-container-id-1 label.sk-toggleable__label {cursor: pointer;display: block;width: 100%;margin-bottom: 0;padding: 0.3em;box-sizing: border-box;text-align: center;}#sk-container-id-1 label.sk-toggleable__label-arrow:before {content: \"▸\";float: left;margin-right: 0.25em;color: #696969;}#sk-container-id-1 label.sk-toggleable__label-arrow:hover:before {color: black;}#sk-container-id-1 div.sk-estimator:hover label.sk-toggleable__label-arrow:before {color: black;}#sk-container-id-1 div.sk-toggleable__content {max-height: 0;max-width: 0;overflow: hidden;text-align: left;background-color: #f0f8ff;}#sk-container-id-1 div.sk-toggleable__content pre {margin: 0.2em;color: black;border-radius: 0.25em;background-color: #f0f8ff;}#sk-container-id-1 input.sk-toggleable__control:checked~div.sk-toggleable__content {max-height: 200px;max-width: 100%;overflow: auto;}#sk-container-id-1 input.sk-toggleable__control:checked~label.sk-toggleable__label-arrow:before {content: \"▾\";}#sk-container-id-1 div.sk-estimator input.sk-toggleable__control:checked~label.sk-toggleable__label {background-color: #d4ebff;}#sk-container-id-1 div.sk-label input.sk-toggleable__control:checked~label.sk-toggleable__label {background-color: #d4ebff;}#sk-container-id-1 input.sk-hidden--visually {border: 0;clip: rect(1px 1px 1px 1px);clip: rect(1px, 1px, 1px, 1px);height: 1px;margin: -1px;overflow: hidden;padding: 0;position: absolute;width: 1px;}#sk-container-id-1 div.sk-estimator {font-family: monospace;background-color: #f0f8ff;border: 1px dotted black;border-radius: 0.25em;box-sizing: border-box;margin-bottom: 0.5em;}#sk-container-id-1 div.sk-estimator:hover {background-color: #d4ebff;}#sk-container-id-1 div.sk-parallel-item::after {content: \"\";width: 100%;border-bottom: 1px solid gray;flex-grow: 1;}#sk-container-id-1 div.sk-label:hover label.sk-toggleable__label {background-color: #d4ebff;}#sk-container-id-1 div.sk-serial::before {content: \"\";position: absolute;border-left: 1px solid gray;box-sizing: border-box;top: 0;bottom: 0;left: 50%;z-index: 0;}#sk-container-id-1 div.sk-serial {display: flex;flex-direction: column;align-items: center;background-color: white;padding-right: 0.2em;padding-left: 0.2em;position: relative;}#sk-container-id-1 div.sk-item {position: relative;z-index: 1;}#sk-container-id-1 div.sk-parallel {display: flex;align-items: stretch;justify-content: center;background-color: white;position: relative;}#sk-container-id-1 div.sk-item::before, #sk-container-id-1 div.sk-parallel-item::before {content: \"\";position: absolute;border-left: 1px solid gray;box-sizing: border-box;top: 0;bottom: 0;left: 50%;z-index: -1;}#sk-container-id-1 div.sk-parallel-item {display: flex;flex-direction: column;z-index: 1;position: relative;background-color: white;}#sk-container-id-1 div.sk-parallel-item:first-child::after {align-self: flex-end;width: 50%;}#sk-container-id-1 div.sk-parallel-item:last-child::after {align-self: flex-start;width: 50%;}#sk-container-id-1 div.sk-parallel-item:only-child::after {width: 0;}#sk-container-id-1 div.sk-dashed-wrapped {border: 1px dashed gray;margin: 0 0.4em 0.5em 0.4em;box-sizing: border-box;padding-bottom: 0.4em;background-color: white;}#sk-container-id-1 div.sk-label label {font-family: monospace;font-weight: bold;display: inline-block;line-height: 1.2em;}#sk-container-id-1 div.sk-label-container {text-align: center;}#sk-container-id-1 div.sk-container {/* jupyter's `normalize.less` sets `[hidden] { display: none; }` but bootstrap.min.css set `[hidden] { display: none !important; }` so we also need the `!important` here to be able to override the default hidden behavior on the sphinx rendered scikit-learn.org. See: https://github.com/scikit-learn/scikit-learn/issues/21755 */display: inline-block !important;position: relative;}#sk-container-id-1 div.sk-text-repr-fallback {display: none;}</style><div id=\"sk-container-id-1\" class=\"sk-top-container\"><div class=\"sk-text-repr-fallback\"><pre>PCA(n_components=3)</pre><b>In a Jupyter environment, please rerun this cell to show the HTML representation or trust the notebook. <br />On GitHub, the HTML representation is unable to render, please try loading this page with nbviewer.org.</b></div><div class=\"sk-container\" hidden><div class=\"sk-item\"><div class=\"sk-estimator sk-toggleable\"><input class=\"sk-toggleable__control sk-hidden--visually\" id=\"sk-estimator-id-1\" type=\"checkbox\" checked><label for=\"sk-estimator-id-1\" class=\"sk-toggleable__label sk-toggleable__label-arrow\">PCA</label><div class=\"sk-toggleable__content\"><pre>PCA(n_components=3)</pre></div></div></div></div></div>"
      ],
      "text/plain": [
       "PCA(n_components=3)"
      ]
     },
     "execution_count": 32,
     "metadata": {},
     "output_type": "execute_result"
    }
   ],
   "source": [
    "pca_1.fit(df_pca)"
   ]
  },
  {
   "cell_type": "code",
   "execution_count": 33,
   "metadata": {},
   "outputs": [
    {
     "data": {
      "text/plain": [
       "array([0.95172303, 0.0099867 , 0.00658596])"
      ]
     },
     "execution_count": 33,
     "metadata": {},
     "output_type": "execute_result"
    }
   ],
   "source": [
    "pca_1.explained_variance_ratio_"
   ]
  },
  {
   "cell_type": "code",
   "execution_count": 34,
   "metadata": {},
   "outputs": [],
   "source": [
    "x_pca_1 = pca_1.transform(df_pca)"
   ]
  },
  {
   "cell_type": "code",
   "execution_count": 35,
   "metadata": {},
   "outputs": [
    {
     "data": {
      "text/plain": [
       "array([[-6.33720315e+00, -2.37894629e-01,  3.75423633e-01],\n",
       "       [-1.13117657e+01, -2.92313102e-01, -1.64382715e-01],\n",
       "       [ 3.66916513e+00, -3.82823605e-01, -1.00552161e+00],\n",
       "       [-3.19252492e-01,  4.97454181e-01,  1.19335013e+00],\n",
       "       [-3.30025891e-01,  2.87404143e-02, -9.35883171e-01],\n",
       "       [-1.23306288e+01, -1.76490016e-01, -1.07316839e+00],\n",
       "       [ 1.06699126e+01, -1.34646386e+00, -2.91646075e-01],\n",
       "       [ 1.16809527e+01,  1.20470164e+00, -2.97735178e-01],\n",
       "       [-5.31547880e+00,  6.59961153e-01, -7.76153816e-01],\n",
       "       [ 9.67779152e+00,  6.08366450e-01,  1.58271569e+00],\n",
       "       [ 1.67068311e+00,  1.07766972e+00, -4.71769534e-01],\n",
       "       [-9.33439445e+00, -1.47471508e+00, -1.37742782e-01],\n",
       "       [ 2.68807811e+00,  9.40808960e-02, -1.41568021e+00],\n",
       "       [ 4.66872814e+00, -1.57604020e+00, -8.08351698e-02],\n",
       "       [-6.33060038e+00, -1.32157311e+00,  6.70993803e-01],\n",
       "       [ 1.46626901e+01,  7.36771917e-01, -2.79871004e-01],\n",
       "       [-1.23282700e+01, -1.33710931e+00,  2.90216673e-01],\n",
       "       [ 5.67985704e+00,  8.75621011e-01,  1.34889404e+00],\n",
       "       [-5.32541242e+00,  1.05115396e+00, -9.74097160e-01],\n",
       "       [ 1.68381018e+00,  1.46424324e-01, -1.44267385e+00],\n",
       "       [ 1.86828277e+01,  1.51881859e+00, -4.68304796e-01],\n",
       "       [-1.33697652e+00,  9.21769679e-01,  4.22512384e-01],\n",
       "       [ 4.16837076e+01, -2.16739005e-01, -1.06338075e+00],\n",
       "       [ 2.66890435e+00, -1.56850456e+00, -8.54373183e-02],\n",
       "       [-9.33417686e+00,  1.74753218e-01,  1.57464880e+00],\n",
       "       [-2.33755556e+00, -2.52965918e-01,  3.84627930e-01],\n",
       "       [ 1.68046753e+00,  3.52557311e-01,  3.29860439e-01],\n",
       "       [-6.33126552e+00, -6.72988477e-01, -7.12963953e-01],\n",
       "       [ 9.67961567e+00,  5.09124719e-01,  6.45694855e-01],\n",
       "       [ 7.66363290e+00, -7.52504654e-01, -5.50771983e-01],\n",
       "       [ 5.68822242e+00,  5.51068176e-01, -8.95097464e-01],\n",
       "       [ 6.76922201e-01, -5.07020968e-01,  9.85781096e-01],\n",
       "       [ 6.68366068e+00,  9.21985073e-01,  5.01431370e-02],\n",
       "       [-4.31218747e+00,  1.13891536e+00,  7.82426623e-02],\n",
       "       [ 3.67885963e+00,  7.79339976e-01,  7.16557555e-01],\n",
       "       [ 3.68601523e+00,  1.34944008e+00, -2.34388273e-01],\n",
       "       [ 2.67026917e+00, -4.62765009e-01, -2.44431806e-01],\n",
       "       [ 6.68080749e+00,  2.67045199e-01, -5.72718485e-01],\n",
       "       [ 6.68564635e+00, -5.54974079e-01, -2.37824808e-01],\n",
       "       [ 2.66938526e+00, -1.26717506e+00,  7.29643684e-01],\n",
       "       [-5.33026503e+00, -8.88724678e-01,  3.73051076e-02],\n",
       "       [-3.28867515e-01, -3.59257351e-01,  4.73261880e-01],\n",
       "       [-1.43274627e+01,  8.59592634e-01, -4.10720183e-02],\n",
       "       [ 1.06773371e+01, -1.02133116e+00,  1.12988075e-01],\n",
       "       [-7.32581796e+00,  8.18976345e-01,  3.43128517e-01],\n",
       "       [-9.33216610e+00,  2.13915441e-01,  5.72890665e-01],\n",
       "       [ 6.77307698e-01, -1.34086882e-01,  3.00690152e-01],\n",
       "       [-1.33012255e+00,  1.40472993e-01,  3.89677455e-01],\n",
       "       [-7.32728334e+00,  1.25436163e-01,  3.58678893e-01],\n",
       "       [ 2.67413470e+00,  4.12895951e-01,  4.32521838e-01],\n",
       "       [ 6.67362195e+00, -5.03389588e-01,  1.68433703e-01],\n",
       "       [-3.20823550e-01,  1.64322615e-01, -3.38110681e-01],\n",
       "       [ 8.66760028e+00, -5.31109780e-01,  4.95855918e-01],\n",
       "       [ 1.36676499e+01, -9.15935122e-01,  4.55959005e-01],\n",
       "       [ 5.66538688e+00,  9.82673569e-02, -2.11549883e-01],\n",
       "       [ 1.06589744e+01, -1.21340849e-02,  1.12320072e+00],\n",
       "       [-3.27435128e-01,  2.54320160e-01, -9.85149347e-01],\n",
       "       [-1.03301399e+01, -8.50784873e-01,  4.94660006e-01],\n",
       "       [ 1.56776124e+01,  2.72241525e-01, -3.23838948e-02],\n",
       "       [-6.33163432e+00, -1.90770259e-01,  2.80250918e-01],\n",
       "       [-7.33697475e+00, -3.68370835e-01,  8.91364187e-01],\n",
       "       [ 2.66881237e+00,  7.93525825e-01, -3.82918031e-01],\n",
       "       [-7.33892233e+00, -5.09253692e-01,  1.48037407e-01],\n",
       "       [-5.32770925e+00,  2.59123550e-01,  7.05585046e-01],\n",
       "       [-1.13364542e+01, -8.61301284e-01,  6.49617411e-02],\n",
       "       [-8.32836663e+00,  1.00113222e+00,  2.41170150e-01],\n",
       "       [ 6.66878975e+00, -4.88745945e-01, -6.98408451e-01],\n",
       "       [-3.32994640e+00, -1.05304705e+00, -6.54900643e-01],\n",
       "       [-1.33157522e+01,  1.05822989e+00, -2.42225049e-02],\n",
       "       [-1.53285977e+01,  1.05341425e+00, -5.48828009e-01],\n",
       "       [-5.32166551e+00,  5.76575341e-01,  1.51025936e+00],\n",
       "       [-3.32965495e+00,  1.00820039e+00, -5.21215118e-01],\n",
       "       [-4.33483497e+00, -1.49355419e+00, -1.26237411e-01],\n",
       "       [ 2.68885668e+00,  1.82389340e-01, -1.37773999e+00],\n",
       "       [ 1.66899245e+00, -1.56473673e+00, -8.77383925e-02],\n",
       "       [ 4.66733801e+00, -1.12235185e+00,  3.65266090e-01],\n",
       "       [-1.33337506e+01,  6.01603639e-01, -1.32615538e-02],\n",
       "       [ 6.66855194e+00, -1.58357585e+00, -7.62330213e-02],\n",
       "       [-4.31926194e+00,  9.13299235e-01,  1.32588330e+00],\n",
       "       [-1.03245815e+01,  1.03425904e+00, -3.18156177e-01],\n",
       "       [ 4.68276731e+00,  4.68124130e-02, -1.47371084e+00],\n",
       "       [ 8.68370871e+00,  1.55649682e+00, -4.91315538e-01],\n",
       "       [ 6.76531822e-01,  7.29768747e-01,  1.35831069e+00],\n",
       "       [-1.83304329e+01, -2.32908290e-01, -4.40906300e-01],\n",
       "       [ 6.66756020e+00, -1.29464904e+00, -2.12798662e-01],\n",
       "       [ 2.66163704e+00,  5.54317442e-02,  4.37323664e-01],\n",
       "       [-3.33438865e+00, -3.79393971e-01,  5.30894204e-01],\n",
       "       [ 6.75034059e-01,  4.63722773e-01,  4.49297508e-01],\n",
       "       [ 6.79867536e-01,  6.05080214e-01,  4.37253800e-01],\n",
       "       [ 7.67874498e+00, -1.74182856e-01,  6.07714602e-01],\n",
       "       [ 6.75887219e-01,  6.29033611e-02,  6.38646624e-01],\n",
       "       [-8.32620745e+00, -5.73598686e-01, -9.86247261e-01],\n",
       "       [ 1.06783094e+01, -8.25794740e-01,  8.26388969e-01],\n",
       "       [ 3.66078564e+00,  5.28097510e-01,  4.90411157e-01],\n",
       "       [ 1.46720665e+01, -9.91817065e-01,  2.42589756e-01],\n",
       "       [ 2.67708172e+00,  1.00900365e+00,  4.45823844e-01],\n",
       "       [ 1.67083854e+00, -1.18965592e-01,  2.51523748e-01],\n",
       "       [ 3.67238633e+00, -4.40035812e-01, -2.74639044e-01],\n",
       "       [-1.33564948e+00,  7.47708313e-01,  2.53977825e-01],\n",
       "       [ 6.66855194e+00, -1.58357585e+00, -7.62330213e-02],\n",
       "       [ 4.66733801e+00, -1.12235185e+00,  3.65266090e-01],\n",
       "       [-1.83333101e+01,  6.20442751e-01, -2.47669249e-02],\n",
       "       [-1.33074324e+00, -1.55343327e+00, -9.46416152e-02],\n",
       "       [ 6.80297549e-01,  8.94460123e-01,  1.33738867e+00],\n",
       "       [-9.32466957e+00,  1.03049122e+00, -3.15855103e-01],\n",
       "       [ 2.68372208e+00,  1.42656502e-01, -1.44037278e+00],\n",
       "       [ 1.68432543e+00,  1.58287158e+00, -5.07423057e-01],\n",
       "       [ 2.67635562e+00,  7.22233102e-01,  1.36291284e+00],\n",
       "       [ 1.36667478e+01, -3.53478606e-01, -3.67271924e-01],\n",
       "       [ 9.67757392e+00, -1.04110185e+00, -1.29675895e-01],\n",
       "       [ 4.66182772e+00, -2.79340675e-01,  4.00735449e-01],\n",
       "       [ 1.67915585e+00,  2.47142155e-02,  6.45428839e-01],\n",
       "       [-5.33004195e+00, -3.48913204e-01, -1.02623128e+00],\n",
       "       [ 2.68048320e+00,  4.86150714e-01,  1.20025335e+00],\n",
       "       [-9.33355768e+00, -3.60608578e-01, -9.05458645e-01],\n",
       "       [-9.33089309e+00, -1.87793483e-01, -1.06626517e+00],\n",
       "       [ 5.67035315e+00, -1.32762475e+00, -3.03151446e-01],\n",
       "       [ 1.16809527e+01,  1.20470164e+00, -2.97735178e-01],\n",
       "       [ 8.66928782e+00,  9.62986517e-01, -4.93602227e-01],\n",
       "       [ 6.67345433e+00,  8.19471730e-01,  1.15967107e+00],\n",
       "       [-1.43299975e+01,  7.21803337e-01, -2.30958534e-01],\n",
       "       [-1.33509927e+00, -1.50485766e+00, -1.19334188e-01],\n",
       "       [ 5.68404220e+00,  2.52528876e-01, -8.02244283e-01],\n",
       "       [-3.33312473e+00, -9.80714025e-02, -3.13437763e-01],\n",
       "       [-7.32714799e+00, -1.07745408e+00,  5.56819661e-01],\n",
       "       [ 9.66641834e+00,  7.02720512e-01, -7.77596482e-01],\n",
       "       [ 1.16698245e+01, -1.35023169e+00, -2.89345001e-01],\n",
       "       [ 4.67994514e+00,  8.79388834e-01,  1.34659297e+00],\n",
       "       [ 4.67300452e+00,  1.21840901e+00, -6.14679592e-01],\n",
       "       [-3.16013612e-01,  1.53959969e-01, -1.44727600e+00],\n",
       "       [ 1.16826658e+01,  1.45688491e+00, -5.22352528e-01],\n",
       "       [ 1.66275918e+00,  9.10466212e-01,  4.29415607e-01],\n",
       "       [ 1.68723168e+00, -6.60261098e-02, -1.15542372e+00],\n",
       "       [-1.33296860e+01, -1.50821940e+00, -1.22254506e-01],\n",
       "       [-8.33312453e+00, -1.41479925e-01,  1.47315262e+00],\n",
       "       [-6.33797866e+00, -3.78948601e-01, -9.70655250e-02],\n",
       "       [ 6.68354961e+00,  3.77166406e-01, -4.56345314e-01],\n",
       "       [-4.33144173e+00, -6.80524122e-01, -7.08361804e-01],\n",
       "       [ 8.67970377e+00,  5.12892541e-01,  6.43393781e-01],\n",
       "       [-3.35662276e-01, -7.22362075e-01, -5.69180577e-01],\n",
       "       [ 1.56708985e+01,  7.02091165e-02, -8.42308270e-01],\n",
       "       [ 6.67555163e-01, -8.99499540e-01, -6.16327293e-02],\n",
       "       [-2.31912551e+00,  9.29608053e-01, -1.43818170e-02],\n",
       "       [-3.29761322e-01,  5.92354787e-01,  7.92851971e-02],\n",
       "       [-1.32715252e+00,  5.21771214e-01,  1.45683088e+00],\n",
       "       [-2.32974305e+00,  1.00443256e+00, -5.18914044e-01],\n",
       "       [ 1.16634384e+01, -1.17211808e+00,  5.20294061e-02],\n",
       "       [ 6.66842862e+00,  1.31751669e-01, -6.05879647e-01],\n",
       "       [-7.33021463e+00, -1.53082633e+00, -1.08448061e-01],\n",
       "       [ 4.66843049e+00, -1.36301915e+00,  6.96305619e-01],\n",
       "       [-4.33035314e+00, -8.92492501e-01,  3.96061818e-02],\n",
       "       [ 6.71044382e-01, -3.63025173e-01,  4.75562954e-01],\n",
       "       [-1.13277270e+01,  8.48289167e-01, -3.41687956e-02],\n",
       "       [-6.31278625e+00,  8.49672667e-02,  9.11560983e-02],\n",
       "       [-1.31254595e+00,  1.10466828e+00, -3.64556617e-01],\n",
       "       [-1.23150345e+01,  9.86890021e-01,  5.09763583e-01],\n",
       "       [ 1.56868775e+01,  1.59639574e-01,  2.17372318e-01],\n",
       "       [ 5.68715123e+00,  7.49317770e-01, -5.53497821e-02],\n",
       "       [ 6.67148322e+00,  7.26866496e-02,  3.90893932e-01],\n",
       "       [-5.32516048e+00,  4.43038531e-01,  4.14113245e-01],\n",
       "       [ 7.67353385e+00, -5.07157411e-01,  1.70734777e-01],\n",
       "       [ 6.79088348e-01,  1.60554793e-01, -3.35809607e-01],\n",
       "       [-1.03307258e+01, -4.59521154e-01,  4.52135508e-01],\n",
       "       [-5.33067615e+00, -8.44346496e-01,  4.12238595e-01],\n",
       "       [-1.23330273e+01,  1.66088160e-01, -2.52969220e-01],\n",
       "       [-3.40056429e-01,  2.93119613e-02,  1.09788890e+00],\n",
       "       [ 1.67238867e+00,  2.46784515e-01, -9.80547198e-01],\n",
       "       [ 6.68890932e-01, -8.92230919e-01,  5.19971823e-01],\n",
       "       [ 1.86773481e+01,  2.60938057e-01, -2.54806721e-02],\n",
       "       [ 6.66722035e+00, -2.39751950e-01,  3.10164883e-01],\n",
       "       [ 8.66161561e+00, -4.28655993e-01,  9.28181375e-01],\n",
       "       [ 5.66854806e+00,  7.82222357e-01, -3.76014809e-01],\n",
       "       [ 6.65984424e+00, -5.62003205e-01,  1.80252446e-01],\n",
       "       [-6.32762114e+00,  2.62891373e-01,  7.03283972e-01],\n",
       "       [-9.33663041e+00, -8.68836929e-01,  6.95638896e-02],\n",
       "       [ 3.67057614e+00,  9.55918347e-01,  2.68783041e-01],\n",
       "       [-7.32997682e+00, -4.35996432e-01, -7.30623490e-01],\n",
       "       [-1.33012261e+00, -1.06058269e+00, -6.50298494e-01],\n",
       "       [ 1.68292623e+00,  1.00171256e+00,  1.02936086e-02],\n",
       "       [-9.32912634e+00,  1.03080732e+00, -5.35021563e-01],\n",
       "       [-3.22106025e-01,  5.57736229e-01,  1.52176474e+00],\n",
       "       [-1.13289501e+01,  1.03834297e+00, -5.39623712e-01],\n",
       "       [-8.33448256e+00, -1.47848290e+00, -1.35441707e-01],\n",
       "       [-8.31017419e+00,  2.23835386e-01, -1.40305181e+00],\n",
       "       [-9.33003842e+00, -1.52329069e+00, -1.13050209e-01],\n",
       "       [-1.43309880e+01, -1.05076322e+00,  3.21545680e-01],\n",
       "       [-9.32093981e+00,  1.41779465e+00, -5.64803801e-01],\n",
       "       [ 7.68530269e+00, -1.26149734e-01, -6.83695538e-01],\n",
       "       [-2.31700802e+00,  1.18987910e+00,  2.01734796e-01],\n",
       "       [-4.31702429e+00,  1.35037993e+00, -5.28605857e-01],\n",
       "       [-6.31650823e+00,  3.03018481e-01, -1.05617155e+00],\n",
       "       [ 7.68269705e+00,  1.39347450e+00, -4.63052753e-01],\n",
       "       [ 1.16830702e+01,  1.46497268e+00, -8.16185646e-02],\n",
       "       [-1.31736359e+00,  6.83214160e-01, -5.68639032e-01],\n",
       "       [-3.31823080e-01, -1.26827428e+00, -2.28906182e-01],\n",
       "       [-6.33757004e+00,  8.93421457e-02,  4.16613996e-01],\n",
       "       [-1.33456486e+00, -3.86929615e-01,  5.35496353e-01],\n",
       "       [ 3.67476975e+00,  4.52419306e-01,  4.56200731e-01],\n",
       "       [-1.03191633e+01,  6.46526260e-01,  4.11941983e-01],\n",
       "       [ 7.67874498e+00, -1.74182856e-01,  6.07714602e-01],\n",
       "       [-3.24024679e-01,  6.66711835e-02,  6.36345550e-01],\n",
       "       [ 2.67282342e+00, -6.15044732e-01, -9.60935445e-01],\n",
       "       [-1.13197523e+01, -7.42902647e-01,  7.75765336e-01],\n",
       "       [-2.33868574e+00,  5.50704444e-01,  4.76604711e-01],\n",
       "       [-1.63252023e+01, -8.75014571e-01,  1.71256455e-01],\n",
       "       [ 6.77257928e-01,  1.01653929e+00,  4.41221696e-01],\n",
       "       [-8.32828043e+00, -8.12873686e-02,  2.28513005e-01],\n",
       "       [-3.23662133e-01, -8.82745993e-02, -7.07207427e-01],\n",
       "       [-4.33538517e+00,  7.59011780e-01,  2.47074602e-01],\n",
       "       [ 7.66846383e+00, -1.58734367e+00, -7.39319471e-02],\n",
       "       [ 8.66698560e+00, -1.13742314e+00,  3.74470387e-01],\n",
       "       [-1.43336625e+01,  6.05371462e-01, -1.55626280e-02],\n",
       "       [ 4.66872814e+00, -1.57604020e+00, -8.08351698e-02],\n",
       "       [-1.31952625e+00,  9.01995768e-01,  1.33278652e+00],\n",
       "       [ 1.67436131e+00,  9.89045170e-01, -2.90543286e-01],\n",
       "       [ 6.83898285e-01,  1.50192146e-01, -1.44497493e+00],\n",
       "       [-4.31514595e+00,  1.60547851e+00, -5.21229503e-01],\n",
       "       [ 6.67600321e+00,  7.07161813e-01,  1.37211714e+00],\n",
       "       [-7.33140201e+00, -2.74354336e-01, -4.15594483e-01],\n",
       "       [-7.33120636e+00, -1.24189953e+00, -2.45013701e-01],\n",
       "       [ 5.67157133e+00,  7.64544720e-02,  3.88592858e-01],\n",
       "       [ 1.67422280e+00,  4.16663774e-01,  4.30220764e-01],\n",
       "       [-1.43245279e+01, -4.24265318e-01,  1.20111144e-01],\n",
       "       [-3.20823550e-01,  1.64322615e-01, -3.38110681e-01],\n",
       "       [ 6.68305102e-01, -5.00967201e-01,  4.77447325e-01],\n",
       "       [ 3.66853092e+00, -8.78256898e-01,  4.32948263e-01],\n",
       "       [-7.33346778e+00,  1.47249048e-01, -2.41463848e-01],\n",
       "       [-8.33935161e+00,  5.94545404e-02,  1.07948031e+00],\n",
       "       [ 6.67194815e+00,  2.27945404e-01, -9.69041827e-01],\n",
       "       [ 5.66845042e+00, -9.11070031e-01,  5.31477194e-01],\n",
       "       [-1.53196564e+01,  3.89044019e-01, -1.03717196e-01],\n",
       "       [-1.33207483e+00, -2.09609371e-01,  2.91756289e-01],\n",
       "       [ 6.62320432e-01, -3.98513414e-01,  9.09772781e-01],\n",
       "       [ 1.36678432e+01,  7.52079778e-01, -3.57606215e-01],\n",
       "       [-1.43383056e+01, -4.82878935e-01,  1.31929887e-01],\n",
       "       [-1.32806166e+00,  2.44052261e-01,  7.14789343e-01],\n",
       "       [-3.37423336e-01, -9.02747331e-01,  9.02735577e-02],\n",
       "       [ 8.67013563e+00,  9.37079235e-01,  2.80288412e-01],\n",
       "       [ 2.46672039e+01, -5.56566748e-01, -6.56989115e-01],\n",
       "       [-1.23360074e+01,  9.63215726e-01,  3.97200568e-01],\n",
       "       [-7.31239025e+00,  3.66919083e-01, -7.00106239e-01],\n",
       "       [ 3.66881624e+00, -1.57227238e+00, -8.31362440e-02],\n",
       "       [-1.43187188e+01,  4.82667590e-01,  1.11220164e+00],\n",
       "       [ 1.66209509e+00, -3.20782736e-01, -4.07167180e-02],\n",
       "       [-1.31574557e+00,  4.07308985e-01, -4.74753908e-01],\n",
       "       [ 3.67813148e+00, -4.45816044e-01, -6.13733666e-01],\n",
       "       [-8.31879849e+00,  5.76945522e-01,  6.04275519e-01],\n",
       "       [-4.33530987e+00, -7.07290785e-01, -5.78384874e-01],\n",
       "       [-1.32760373e+00,  1.34262097e-01, -8.81426532e-01],\n",
       "       [-5.31679047e+00,  3.32118057e-01, -4.60585416e-01],\n",
       "       [-6.31877310e+00,  9.44679343e-01, -2.35861139e-02],\n",
       "       [-1.32967322e+00,  5.96122609e-01,  7.69841228e-02],\n",
       "       [ 3.67318553e+00,  5.91240546e-01,  1.50627646e+00],\n",
       "       [-4.32956685e+00,  1.01196821e+00, -5.23516192e-01],\n",
       "       [-1.13345352e+01, -1.08545816e+00, -8.95301159e-04],\n",
       "       [-1.43297212e+01,  2.10875939e-01, -6.54202206e-01],\n",
       "       [ 2.66890435e+00, -1.56850456e+00, -8.54373183e-02],\n",
       "       [-1.33104090e+00, -1.34041222e+00,  6.82499174e-01],\n",
       "       [-7.33008883e+00, -8.81189034e-01,  3.27029592e-02],\n",
       "       [ 4.67069197e+00, -3.78096463e-01,  4.84767251e-01],\n",
       "       [ 3.67095143e+00,  7.91771831e-01,  3.47317806e-04],\n",
       "       [ 2.36761918e+01, -1.07031285e+00,  1.42902040e-01],\n",
       "       [-4.32967348e+00,  4.38117038e-02, -9.45087468e-01],\n",
       "       [-8.33098119e+00, -1.91561305e-01, -1.06396409e+00],\n",
       "       [-7.32850152e+00, -1.27864306e+00, -3.33065411e-01],\n",
       "       [ 2.68174565e+00,  1.23861204e+00, -3.18444846e-01],\n",
       "       [ 7.68337587e+00,  6.10979462e-01, -7.46239851e-01],\n",
       "       [ 2.67840824e+00,  6.34741206e-01,  1.56660817e+00],\n",
       "       [ 7.67015449e+00,  1.05506278e+00, -4.57963088e-01],\n",
       "       [ 7.66410780e+00, -1.53876806e+00, -9.86245198e-02],\n",
       "       [-7.31104086e+00,  1.31759120e-01, -1.43869095e+00],\n",
       "       [-3.30831345e-01, -1.55720109e+00, -9.23405409e-02],\n",
       "       [-1.33104090e+00, -1.34041222e+00,  6.82499174e-01],\n",
       "       [ 3.66365919e+00,  7.78217963e-01, -3.05182821e-01],\n",
       "       [ 6.67005609e+00, -1.40869793e+00,  3.33937083e-01],\n",
       "       [-1.31952625e+00,  9.01995768e-01,  1.33278652e+00],\n",
       "       [ 6.74058969e-01,  1.02854702e+00, -9.60290714e-01],\n",
       "       [-2.43138992e+01,  2.44387706e-01, -1.50250178e+00],\n",
       "       [-1.43142649e+01,  1.64315673e+00, -5.44240245e-01],\n",
       "       [ 3.66258297e+00,  9.02930567e-01,  4.34017755e-01],\n",
       "       [ 3.68705547e+00, -7.35617546e-02, -1.15082157e+00],\n",
       "       [ 7.68570529e+00, -7.45451888e-01, -5.32949557e-01],\n",
       "       [ 1.66777143e+01,  7.30358285e-01,  7.46471520e-01],\n",
       "       [ 2.66200393e+00, -2.71805030e-01,  3.96133301e-01],\n",
       "       [ 4.67994514e+00,  8.79388834e-01,  1.34659297e+00],\n",
       "       [ 4.67300452e+00,  1.21840901e+00, -6.14679592e-01],\n",
       "       [-3.16013612e-01,  1.53959969e-01, -1.44727600e+00],\n",
       "       [ 1.16826658e+01,  1.45688491e+00, -5.22352528e-01],\n",
       "       [ 1.66275918e+00,  9.10466212e-01,  4.29415607e-01],\n",
       "       [ 1.68723168e+00, -6.60261098e-02, -1.15542372e+00],\n",
       "       [-1.33296860e+01, -1.50821940e+00, -1.22254506e-01],\n",
       "       [-8.33312453e+00, -1.41479925e-01,  1.47315262e+00],\n",
       "       [-6.33797866e+00, -3.78948601e-01, -9.70655250e-02],\n",
       "       [ 6.68354961e+00,  3.77166406e-01, -4.56345314e-01],\n",
       "       [-4.33144173e+00, -6.80524122e-01, -7.08361804e-01],\n",
       "       [ 8.67970377e+00,  5.12892541e-01,  6.43393781e-01],\n",
       "       [-3.35662276e-01, -7.22362075e-01, -5.69180577e-01],\n",
       "       [ 1.56708985e+01,  7.02091165e-02, -8.42308270e-01],\n",
       "       [ 6.67555163e-01, -8.99499540e-01, -6.16327293e-02],\n",
       "       [-2.31912551e+00,  9.29608053e-01, -1.43818170e-02],\n",
       "       [-3.29761322e-01,  5.92354787e-01,  7.92851971e-02],\n",
       "       [-1.32715252e+00,  5.21771214e-01,  1.45683088e+00],\n",
       "       [-2.32974305e+00,  1.00443256e+00, -5.18914044e-01],\n",
       "       [ 1.16634384e+01, -1.17211808e+00,  5.20294061e-02],\n",
       "       [ 6.66842862e+00,  1.31751669e-01, -6.05879647e-01],\n",
       "       [-7.33021463e+00, -1.53082633e+00, -1.08448061e-01],\n",
       "       [ 4.66843049e+00, -1.36301915e+00,  6.96305619e-01],\n",
       "       [-4.33035314e+00, -8.92492501e-01,  3.96061818e-02],\n",
       "       [ 6.71044382e-01, -3.63025173e-01,  4.75562954e-01]])"
      ]
     },
     "execution_count": 35,
     "metadata": {},
     "output_type": "execute_result"
    }
   ],
   "source": [
    "x_pca_1"
   ]
  },
  {
   "cell_type": "code",
   "execution_count": 36,
   "metadata": {},
   "outputs": [
    {
     "data": {
      "text/plain": [
       "927"
      ]
     },
     "execution_count": 36,
     "metadata": {},
     "output_type": "execute_result"
    }
   ],
   "source": [
    "x_pca_1.size"
   ]
  },
  {
   "cell_type": "code",
   "execution_count": 37,
   "metadata": {},
   "outputs": [
    {
     "data": {
      "text/plain": [
       "(309, 3)"
      ]
     },
     "execution_count": 37,
     "metadata": {},
     "output_type": "execute_result"
    }
   ],
   "source": [
    "x_pca_1.shape"
   ]
  },
  {
   "cell_type": "code",
   "execution_count": 38,
   "metadata": {},
   "outputs": [],
   "source": [
    "from sklearn.model_selection import train_test_split"
   ]
  },
  {
   "cell_type": "code",
   "execution_count": 39,
   "metadata": {},
   "outputs": [],
   "source": [
    "x = df.drop(columns=['LUNG_CANCER'])"
   ]
  },
  {
   "cell_type": "code",
   "execution_count": 40,
   "metadata": {},
   "outputs": [
    {
     "data": {
      "text/html": [
       "<div>\n",
       "<style scoped>\n",
       "    .dataframe tbody tr th:only-of-type {\n",
       "        vertical-align: middle;\n",
       "    }\n",
       "\n",
       "    .dataframe tbody tr th {\n",
       "        vertical-align: top;\n",
       "    }\n",
       "\n",
       "    .dataframe thead th {\n",
       "        text-align: right;\n",
       "    }\n",
       "</style>\n",
       "<table border=\"1\" class=\"dataframe\">\n",
       "  <thead>\n",
       "    <tr style=\"text-align: right;\">\n",
       "      <th></th>\n",
       "      <th>GENDER</th>\n",
       "      <th>AGE</th>\n",
       "      <th>SMOKING</th>\n",
       "      <th>YELLOW_FINGERS</th>\n",
       "      <th>ANXIETY</th>\n",
       "      <th>PEER_PRESSURE</th>\n",
       "      <th>CHRONIC DISEASE</th>\n",
       "      <th>FATIGUE</th>\n",
       "      <th>ALLERGY</th>\n",
       "      <th>WHEEZING</th>\n",
       "      <th>ALCOHOL CONSUMING</th>\n",
       "      <th>COUGHING</th>\n",
       "      <th>SHORTNESS OF BREATH</th>\n",
       "      <th>SWALLOWING DIFFICULTY</th>\n",
       "      <th>CHEST PAIN</th>\n",
       "    </tr>\n",
       "  </thead>\n",
       "  <tbody>\n",
       "    <tr>\n",
       "      <th>0</th>\n",
       "      <td>1</td>\n",
       "      <td>69</td>\n",
       "      <td>1</td>\n",
       "      <td>2</td>\n",
       "      <td>2</td>\n",
       "      <td>1</td>\n",
       "      <td>1</td>\n",
       "      <td>2</td>\n",
       "      <td>1</td>\n",
       "      <td>2</td>\n",
       "      <td>2</td>\n",
       "      <td>2</td>\n",
       "      <td>2</td>\n",
       "      <td>2</td>\n",
       "      <td>2</td>\n",
       "    </tr>\n",
       "    <tr>\n",
       "      <th>1</th>\n",
       "      <td>1</td>\n",
       "      <td>74</td>\n",
       "      <td>2</td>\n",
       "      <td>1</td>\n",
       "      <td>1</td>\n",
       "      <td>1</td>\n",
       "      <td>2</td>\n",
       "      <td>2</td>\n",
       "      <td>2</td>\n",
       "      <td>1</td>\n",
       "      <td>1</td>\n",
       "      <td>1</td>\n",
       "      <td>2</td>\n",
       "      <td>2</td>\n",
       "      <td>2</td>\n",
       "    </tr>\n",
       "    <tr>\n",
       "      <th>2</th>\n",
       "      <td>0</td>\n",
       "      <td>59</td>\n",
       "      <td>1</td>\n",
       "      <td>1</td>\n",
       "      <td>1</td>\n",
       "      <td>2</td>\n",
       "      <td>1</td>\n",
       "      <td>2</td>\n",
       "      <td>1</td>\n",
       "      <td>2</td>\n",
       "      <td>1</td>\n",
       "      <td>2</td>\n",
       "      <td>2</td>\n",
       "      <td>1</td>\n",
       "      <td>2</td>\n",
       "    </tr>\n",
       "    <tr>\n",
       "      <th>3</th>\n",
       "      <td>1</td>\n",
       "      <td>63</td>\n",
       "      <td>2</td>\n",
       "      <td>2</td>\n",
       "      <td>2</td>\n",
       "      <td>1</td>\n",
       "      <td>1</td>\n",
       "      <td>1</td>\n",
       "      <td>1</td>\n",
       "      <td>1</td>\n",
       "      <td>2</td>\n",
       "      <td>1</td>\n",
       "      <td>1</td>\n",
       "      <td>2</td>\n",
       "      <td>2</td>\n",
       "    </tr>\n",
       "    <tr>\n",
       "      <th>4</th>\n",
       "      <td>0</td>\n",
       "      <td>63</td>\n",
       "      <td>1</td>\n",
       "      <td>2</td>\n",
       "      <td>1</td>\n",
       "      <td>1</td>\n",
       "      <td>1</td>\n",
       "      <td>1</td>\n",
       "      <td>1</td>\n",
       "      <td>2</td>\n",
       "      <td>1</td>\n",
       "      <td>2</td>\n",
       "      <td>2</td>\n",
       "      <td>1</td>\n",
       "      <td>1</td>\n",
       "    </tr>\n",
       "    <tr>\n",
       "      <th>...</th>\n",
       "      <td>...</td>\n",
       "      <td>...</td>\n",
       "      <td>...</td>\n",
       "      <td>...</td>\n",
       "      <td>...</td>\n",
       "      <td>...</td>\n",
       "      <td>...</td>\n",
       "      <td>...</td>\n",
       "      <td>...</td>\n",
       "      <td>...</td>\n",
       "      <td>...</td>\n",
       "      <td>...</td>\n",
       "      <td>...</td>\n",
       "      <td>...</td>\n",
       "      <td>...</td>\n",
       "    </tr>\n",
       "    <tr>\n",
       "      <th>304</th>\n",
       "      <td>0</td>\n",
       "      <td>56</td>\n",
       "      <td>1</td>\n",
       "      <td>1</td>\n",
       "      <td>1</td>\n",
       "      <td>2</td>\n",
       "      <td>2</td>\n",
       "      <td>2</td>\n",
       "      <td>1</td>\n",
       "      <td>1</td>\n",
       "      <td>2</td>\n",
       "      <td>2</td>\n",
       "      <td>2</td>\n",
       "      <td>2</td>\n",
       "      <td>1</td>\n",
       "    </tr>\n",
       "    <tr>\n",
       "      <th>305</th>\n",
       "      <td>1</td>\n",
       "      <td>70</td>\n",
       "      <td>2</td>\n",
       "      <td>1</td>\n",
       "      <td>1</td>\n",
       "      <td>1</td>\n",
       "      <td>1</td>\n",
       "      <td>2</td>\n",
       "      <td>2</td>\n",
       "      <td>2</td>\n",
       "      <td>2</td>\n",
       "      <td>2</td>\n",
       "      <td>2</td>\n",
       "      <td>1</td>\n",
       "      <td>2</td>\n",
       "    </tr>\n",
       "    <tr>\n",
       "      <th>306</th>\n",
       "      <td>1</td>\n",
       "      <td>58</td>\n",
       "      <td>2</td>\n",
       "      <td>1</td>\n",
       "      <td>1</td>\n",
       "      <td>1</td>\n",
       "      <td>1</td>\n",
       "      <td>1</td>\n",
       "      <td>2</td>\n",
       "      <td>2</td>\n",
       "      <td>2</td>\n",
       "      <td>2</td>\n",
       "      <td>1</td>\n",
       "      <td>1</td>\n",
       "      <td>2</td>\n",
       "    </tr>\n",
       "    <tr>\n",
       "      <th>307</th>\n",
       "      <td>1</td>\n",
       "      <td>67</td>\n",
       "      <td>2</td>\n",
       "      <td>1</td>\n",
       "      <td>2</td>\n",
       "      <td>1</td>\n",
       "      <td>1</td>\n",
       "      <td>2</td>\n",
       "      <td>2</td>\n",
       "      <td>1</td>\n",
       "      <td>2</td>\n",
       "      <td>2</td>\n",
       "      <td>2</td>\n",
       "      <td>1</td>\n",
       "      <td>2</td>\n",
       "    </tr>\n",
       "    <tr>\n",
       "      <th>308</th>\n",
       "      <td>1</td>\n",
       "      <td>62</td>\n",
       "      <td>1</td>\n",
       "      <td>1</td>\n",
       "      <td>1</td>\n",
       "      <td>2</td>\n",
       "      <td>1</td>\n",
       "      <td>2</td>\n",
       "      <td>2</td>\n",
       "      <td>2</td>\n",
       "      <td>2</td>\n",
       "      <td>1</td>\n",
       "      <td>1</td>\n",
       "      <td>2</td>\n",
       "      <td>1</td>\n",
       "    </tr>\n",
       "  </tbody>\n",
       "</table>\n",
       "<p>309 rows × 15 columns</p>\n",
       "</div>"
      ],
      "text/plain": [
       "     GENDER  AGE  SMOKING  YELLOW_FINGERS  ANXIETY  PEER_PRESSURE  \\\n",
       "0         1   69        1               2        2              1   \n",
       "1         1   74        2               1        1              1   \n",
       "2         0   59        1               1        1              2   \n",
       "3         1   63        2               2        2              1   \n",
       "4         0   63        1               2        1              1   \n",
       "..      ...  ...      ...             ...      ...            ...   \n",
       "304       0   56        1               1        1              2   \n",
       "305       1   70        2               1        1              1   \n",
       "306       1   58        2               1        1              1   \n",
       "307       1   67        2               1        2              1   \n",
       "308       1   62        1               1        1              2   \n",
       "\n",
       "     CHRONIC DISEASE  FATIGUE   ALLERGY   WHEEZING  ALCOHOL CONSUMING  \\\n",
       "0                  1         2         1         2                  2   \n",
       "1                  2         2         2         1                  1   \n",
       "2                  1         2         1         2                  1   \n",
       "3                  1         1         1         1                  2   \n",
       "4                  1         1         1         2                  1   \n",
       "..               ...       ...       ...       ...                ...   \n",
       "304                2         2         1         1                  2   \n",
       "305                1         2         2         2                  2   \n",
       "306                1         1         2         2                  2   \n",
       "307                1         2         2         1                  2   \n",
       "308                1         2         2         2                  2   \n",
       "\n",
       "     COUGHING  SHORTNESS OF BREATH  SWALLOWING DIFFICULTY  CHEST PAIN  \n",
       "0           2                    2                      2           2  \n",
       "1           1                    2                      2           2  \n",
       "2           2                    2                      1           2  \n",
       "3           1                    1                      2           2  \n",
       "4           2                    2                      1           1  \n",
       "..        ...                  ...                    ...         ...  \n",
       "304         2                    2                      2           1  \n",
       "305         2                    2                      1           2  \n",
       "306         2                    1                      1           2  \n",
       "307         2                    2                      1           2  \n",
       "308         1                    1                      2           1  \n",
       "\n",
       "[309 rows x 15 columns]"
      ]
     },
     "execution_count": 40,
     "metadata": {},
     "output_type": "execute_result"
    }
   ],
   "source": [
    "x"
   ]
  },
  {
   "cell_type": "code",
   "execution_count": 41,
   "metadata": {},
   "outputs": [],
   "source": [
    "y = df['LUNG_CANCER']"
   ]
  },
  {
   "cell_type": "code",
   "execution_count": 42,
   "metadata": {},
   "outputs": [
    {
     "data": {
      "text/plain": [
       "0      1\n",
       "1      1\n",
       "2      0\n",
       "3      0\n",
       "4      0\n",
       "      ..\n",
       "304    1\n",
       "305    1\n",
       "306    1\n",
       "307    1\n",
       "308    1\n",
       "Name: LUNG_CANCER, Length: 309, dtype: int32"
      ]
     },
     "execution_count": 42,
     "metadata": {},
     "output_type": "execute_result"
    }
   ],
   "source": [
    "y"
   ]
  },
  {
   "cell_type": "code",
   "execution_count": 43,
   "metadata": {},
   "outputs": [],
   "source": [
    "X_train, X_test, y_train, y_test = train_test_split(x, y, test_size=0.2, random_state=100)"
   ]
  },
  {
   "cell_type": "code",
   "execution_count": 44,
   "metadata": {},
   "outputs": [
    {
     "data": {
      "text/plain": [
       "(247, 15)"
      ]
     },
     "execution_count": 44,
     "metadata": {},
     "output_type": "execute_result"
    }
   ],
   "source": [
    "X_train.shape"
   ]
  },
  {
   "cell_type": "code",
   "execution_count": 45,
   "metadata": {},
   "outputs": [
    {
     "data": {
      "text/plain": [
       "(247,)"
      ]
     },
     "execution_count": 45,
     "metadata": {},
     "output_type": "execute_result"
    }
   ],
   "source": [
    "y_train.shape"
   ]
  },
  {
   "cell_type": "code",
   "execution_count": 46,
   "metadata": {},
   "outputs": [
    {
     "data": {
      "text/plain": [
       "(62, 15)"
      ]
     },
     "execution_count": 46,
     "metadata": {},
     "output_type": "execute_result"
    }
   ],
   "source": [
    "X_test.shape"
   ]
  },
  {
   "cell_type": "code",
   "execution_count": 47,
   "metadata": {},
   "outputs": [
    {
     "data": {
      "text/plain": [
       "(62,)"
      ]
     },
     "execution_count": 47,
     "metadata": {},
     "output_type": "execute_result"
    }
   ],
   "source": [
    "y_test.shape"
   ]
  },
  {
   "cell_type": "code",
   "execution_count": 48,
   "metadata": {},
   "outputs": [],
   "source": [
    "from tensorflow.keras.models import Sequential"
   ]
  },
  {
   "cell_type": "code",
   "execution_count": 49,
   "metadata": {},
   "outputs": [],
   "source": [
    "from tensorflow.keras.layers import Dense"
   ]
  },
  {
   "cell_type": "code",
   "execution_count": 50,
   "metadata": {},
   "outputs": [],
   "source": [
    "from keras.losses import binary_crossentropy"
   ]
  },
  {
   "cell_type": "code",
   "execution_count": 51,
   "metadata": {},
   "outputs": [
    {
     "name": "stdout",
     "output_type": "stream",
     "text": [
      "Model: \"sequential\"\n",
      "_________________________________________________________________\n",
      " Layer (type)                Output Shape              Param #   \n",
      "=================================================================\n",
      " dense (Dense)               (None, 25)                400       \n",
      "                                                                 \n",
      " dense_1 (Dense)             (None, 15)                390       \n",
      "                                                                 \n",
      " dense_2 (Dense)             (None, 1)                 16        \n",
      "                                                                 \n",
      "=================================================================\n",
      "Total params: 806 (3.15 KB)\n",
      "Trainable params: 806 (3.15 KB)\n",
      "Non-trainable params: 0 (0.00 Byte)\n",
      "_________________________________________________________________\n"
     ]
    }
   ],
   "source": [
    "model = Sequential([\n",
    "    tf.keras.Input(shape =(15,),),\n",
    "    Dense(units = 25,activation = 'relu'),\n",
    "    Dense(units = 15,activation = 'relu'),\n",
    "    Dense(units = 1 , activation = 'linear')\n",
    "]\n",
    ")\n",
    "\n",
    "model.summary()\n",
    "\n"
   ]
  },
  {
   "cell_type": "code",
   "execution_count": 52,
   "metadata": {},
   "outputs": [],
   "source": [
    "import keras"
   ]
  },
  {
   "cell_type": "code",
   "execution_count": 53,
   "metadata": {},
   "outputs": [],
   "source": [
    "model.compile(\n",
    "    loss=tf.keras.losses.BinaryCrossentropy(from_logits=True),\n",
    "    optimizer=tf.keras.optimizers.Adam(learning_rate=0.001)\n",
    ")\n"
   ]
  },
  {
   "cell_type": "code",
   "execution_count": 54,
   "metadata": {},
   "outputs": [
    {
     "data": {
      "text/plain": [
       "<bound method Series.unique of 1      1\n",
       "282    0\n",
       "10     1\n",
       "213    1\n",
       "54     1\n",
       "      ..\n",
       "66     1\n",
       "53     1\n",
       "79     1\n",
       "280    0\n",
       "8      0\n",
       "Name: LUNG_CANCER, Length: 247, dtype: int32>"
      ]
     },
     "execution_count": 54,
     "metadata": {},
     "output_type": "execute_result"
    }
   ],
   "source": [
    "y_train.unique"
   ]
  },
  {
   "cell_type": "code",
   "execution_count": 55,
   "metadata": {},
   "outputs": [
    {
     "name": "stdout",
     "output_type": "stream",
     "text": [
      "Epoch 1/40\n",
      "8/8 [==============================] - 2s 9ms/step - loss: 5.7240\n",
      "Epoch 2/40\n",
      "8/8 [==============================] - 0s 7ms/step - loss: 2.9541\n",
      "Epoch 3/40\n",
      "8/8 [==============================] - 0s 7ms/step - loss: 0.8495\n",
      "Epoch 4/40\n",
      "8/8 [==============================] - 0s 7ms/step - loss: 0.3822\n",
      "Epoch 5/40\n",
      "8/8 [==============================] - 0s 7ms/step - loss: 0.4373\n",
      "Epoch 6/40\n",
      "8/8 [==============================] - 0s 7ms/step - loss: 0.4504\n",
      "Epoch 7/40\n",
      "8/8 [==============================] - 0s 7ms/step - loss: 0.4290\n",
      "Epoch 8/40\n",
      "8/8 [==============================] - 0s 7ms/step - loss: 0.3988\n",
      "Epoch 9/40\n",
      "8/8 [==============================] - 0s 7ms/step - loss: 0.3754\n",
      "Epoch 10/40\n",
      "8/8 [==============================] - 0s 7ms/step - loss: 0.3682\n",
      "Epoch 11/40\n",
      "8/8 [==============================] - 0s 6ms/step - loss: 0.3690\n",
      "Epoch 12/40\n",
      "8/8 [==============================] - 0s 7ms/step - loss: 0.3687\n",
      "Epoch 13/40\n",
      "8/8 [==============================] - 0s 3ms/step - loss: 0.3674\n",
      "Epoch 14/40\n",
      "8/8 [==============================] - 0s 3ms/step - loss: 0.3667\n",
      "Epoch 15/40\n",
      "8/8 [==============================] - 0s 3ms/step - loss: 0.3664\n",
      "Epoch 16/40\n",
      "8/8 [==============================] - 0s 3ms/step - loss: 0.3657\n",
      "Epoch 17/40\n",
      "8/8 [==============================] - 0s 3ms/step - loss: 0.3638\n",
      "Epoch 18/40\n",
      "8/8 [==============================] - 0s 4ms/step - loss: 0.3630\n",
      "Epoch 19/40\n",
      "8/8 [==============================] - 0s 4ms/step - loss: 0.3622\n",
      "Epoch 20/40\n",
      "8/8 [==============================] - 0s 3ms/step - loss: 0.3614\n",
      "Epoch 21/40\n",
      "8/8 [==============================] - 0s 3ms/step - loss: 0.3615\n",
      "Epoch 22/40\n",
      "8/8 [==============================] - 0s 3ms/step - loss: 0.3611\n",
      "Epoch 23/40\n",
      "8/8 [==============================] - 0s 3ms/step - loss: 0.3586\n",
      "Epoch 24/40\n",
      "8/8 [==============================] - 0s 3ms/step - loss: 0.3586\n",
      "Epoch 25/40\n",
      "8/8 [==============================] - 0s 3ms/step - loss: 0.3572\n",
      "Epoch 26/40\n",
      "8/8 [==============================] - 0s 3ms/step - loss: 0.3575\n",
      "Epoch 27/40\n",
      "8/8 [==============================] - 0s 3ms/step - loss: 0.3548\n",
      "Epoch 28/40\n",
      "8/8 [==============================] - 0s 3ms/step - loss: 0.3539\n",
      "Epoch 29/40\n",
      "8/8 [==============================] - 0s 3ms/step - loss: 0.3551\n",
      "Epoch 30/40\n",
      "8/8 [==============================] - 0s 3ms/step - loss: 0.3524\n",
      "Epoch 31/40\n",
      "8/8 [==============================] - 0s 3ms/step - loss: 0.3543\n",
      "Epoch 32/40\n",
      "8/8 [==============================] - 0s 3ms/step - loss: 0.3505\n",
      "Epoch 33/40\n",
      "8/8 [==============================] - 0s 3ms/step - loss: 0.3493\n",
      "Epoch 34/40\n",
      "8/8 [==============================] - 0s 3ms/step - loss: 0.3477\n",
      "Epoch 35/40\n",
      "8/8 [==============================] - 0s 3ms/step - loss: 0.3479\n",
      "Epoch 36/40\n",
      "8/8 [==============================] - 0s 3ms/step - loss: 0.3468\n",
      "Epoch 37/40\n",
      "8/8 [==============================] - 0s 3ms/step - loss: 0.3444\n",
      "Epoch 38/40\n",
      "8/8 [==============================] - 0s 3ms/step - loss: 0.3440\n",
      "Epoch 39/40\n",
      "8/8 [==============================] - 0s 3ms/step - loss: 0.3429\n",
      "Epoch 40/40\n",
      "8/8 [==============================] - 0s 3ms/step - loss: 0.3414\n"
     ]
    }
   ],
   "source": [
    "history = model.fit(\n",
    "    X_train.values,y_train.values,\n",
    "    epochs=40\n",
    ")"
   ]
  },
  {
   "cell_type": "code",
   "execution_count": 56,
   "metadata": {},
   "outputs": [
    {
     "name": "stdout",
     "output_type": "stream",
     "text": [
      "2/2 [==============================] - 0s 7ms/step\n"
     ]
    }
   ],
   "source": [
    "y_pred_neural  = model.predict(X_test)"
   ]
  },
  {
   "cell_type": "code",
   "execution_count": 57,
   "metadata": {},
   "outputs": [
    {
     "data": {
      "text/plain": [
       "array([[2.1980093],\n",
       "       [1.634169 ],\n",
       "       [2.4358535],\n",
       "       [1.5211118],\n",
       "       [2.026838 ],\n",
       "       [1.9770254],\n",
       "       [2.234194 ],\n",
       "       [2.34812  ],\n",
       "       [1.3187046],\n",
       "       [1.3469853],\n",
       "       [2.6476982],\n",
       "       [1.64302  ],\n",
       "       [2.122747 ],\n",
       "       [2.2570717],\n",
       "       [2.4405737],\n",
       "       [2.089429 ],\n",
       "       [1.209179 ],\n",
       "       [1.7759153],\n",
       "       [2.322659 ],\n",
       "       [2.0996718],\n",
       "       [2.451903 ],\n",
       "       [2.1815898],\n",
       "       [2.0022724],\n",
       "       [2.7849214],\n",
       "       [1.9835552],\n",
       "       [2.4837832],\n",
       "       [2.3030481],\n",
       "       [2.086813 ],\n",
       "       [1.4402895],\n",
       "       [2.2609668],\n",
       "       [2.4837039],\n",
       "       [1.2065233],\n",
       "       [2.2633684],\n",
       "       [2.3944786],\n",
       "       [2.675374 ],\n",
       "       [1.2463518],\n",
       "       [2.2442782],\n",
       "       [1.9867536],\n",
       "       [1.9886249],\n",
       "       [1.9766057],\n",
       "       [1.6772281],\n",
       "       [1.9645658],\n",
       "       [1.6789999],\n",
       "       [2.0557652],\n",
       "       [2.6258037],\n",
       "       [1.6741973],\n",
       "       [1.8352557],\n",
       "       [2.1741421],\n",
       "       [2.0703084],\n",
       "       [2.6532378],\n",
       "       [1.9325463],\n",
       "       [1.6676022],\n",
       "       [2.3232055],\n",
       "       [2.3088346],\n",
       "       [2.021657 ],\n",
       "       [2.5069773],\n",
       "       [1.8066331],\n",
       "       [2.1137466],\n",
       "       [1.8129815],\n",
       "       [1.532376 ],\n",
       "       [1.9947708],\n",
       "       [1.7677765]], dtype=float32)"
      ]
     },
     "execution_count": 57,
     "metadata": {},
     "output_type": "execute_result"
    }
   ],
   "source": [
    "y_pred_neural"
   ]
  },
  {
   "cell_type": "code",
   "execution_count": 58,
   "metadata": {},
   "outputs": [],
   "source": [
    "y_pred_final = []\n",
    "for i in y_pred_neural:\n",
    "    if(i > 1.5):\n",
    "        y_pred_final.append(1)\n",
    "    else:\n",
    "        y_pred_final.append(0)"
   ]
  },
  {
   "cell_type": "code",
   "execution_count": 59,
   "metadata": {},
   "outputs": [
    {
     "data": {
      "text/plain": [
       "[1,\n",
       " 1,\n",
       " 1,\n",
       " 1,\n",
       " 1,\n",
       " 1,\n",
       " 1,\n",
       " 1,\n",
       " 0,\n",
       " 0,\n",
       " 1,\n",
       " 1,\n",
       " 1,\n",
       " 1,\n",
       " 1,\n",
       " 1,\n",
       " 0,\n",
       " 1,\n",
       " 1,\n",
       " 1,\n",
       " 1,\n",
       " 1,\n",
       " 1,\n",
       " 1,\n",
       " 1,\n",
       " 1,\n",
       " 1,\n",
       " 1,\n",
       " 0,\n",
       " 1,\n",
       " 1,\n",
       " 0,\n",
       " 1,\n",
       " 1,\n",
       " 1,\n",
       " 0,\n",
       " 1,\n",
       " 1,\n",
       " 1,\n",
       " 1,\n",
       " 1,\n",
       " 1,\n",
       " 1,\n",
       " 1,\n",
       " 1,\n",
       " 1,\n",
       " 1,\n",
       " 1,\n",
       " 1,\n",
       " 1,\n",
       " 1,\n",
       " 1,\n",
       " 1,\n",
       " 1,\n",
       " 1,\n",
       " 1,\n",
       " 1,\n",
       " 1,\n",
       " 1,\n",
       " 1,\n",
       " 1,\n",
       " 1]"
      ]
     },
     "execution_count": 59,
     "metadata": {},
     "output_type": "execute_result"
    }
   ],
   "source": [
    "y_pred_final"
   ]
  },
  {
   "cell_type": "code",
   "execution_count": 60,
   "metadata": {},
   "outputs": [
    {
     "data": {
      "text/plain": [
       "array([1, 0])"
      ]
     },
     "execution_count": 60,
     "metadata": {},
     "output_type": "execute_result"
    }
   ],
   "source": [
    "y_test.unique()"
   ]
  },
  {
   "cell_type": "code",
   "execution_count": 61,
   "metadata": {},
   "outputs": [],
   "source": [
    "yes_count = 0\n",
    "no_count = 0\n",
    "for num1, num2 in zip(y_test, y_pred_final):\n",
    "        if num1 == num2:\n",
    "            yes_count += 1\n",
    "        else:\n",
    "            no_count += 1"
   ]
  },
  {
   "cell_type": "code",
   "execution_count": 62,
   "metadata": {},
   "outputs": [
    {
     "data": {
      "text/plain": [
       "54"
      ]
     },
     "execution_count": 62,
     "metadata": {},
     "output_type": "execute_result"
    }
   ],
   "source": [
    "yes_count"
   ]
  },
  {
   "cell_type": "code",
   "execution_count": 63,
   "metadata": {},
   "outputs": [
    {
     "data": {
      "text/plain": [
       "8"
      ]
     },
     "execution_count": 63,
     "metadata": {},
     "output_type": "execute_result"
    }
   ],
   "source": [
    "no_count"
   ]
  },
  {
   "cell_type": "code",
   "execution_count": 64,
   "metadata": {},
   "outputs": [],
   "source": [
    "from sklearn.metrics import precision_score, recall_score, f1_score"
   ]
  },
  {
   "cell_type": "code",
   "execution_count": 65,
   "metadata": {},
   "outputs": [
    {
     "name": "stdout",
     "output_type": "stream",
     "text": [
      "Precision: 0.9285714285714286\n",
      "Recall: 0.9285714285714286\n",
      "F1 score: 0.9285714285714286\n"
     ]
    }
   ],
   "source": [
    "\n",
    "# Calculate the precision, recall, and F1 score\n",
    "precision = precision_score(y_test, y_pred_final)\n",
    "recall = recall_score(y_test, y_pred_final)\n",
    "f1 = f1_score(y_test, y_pred_final)\n",
    "\n",
    "# Print the results\n",
    "print(\"Precision:\", precision)\n",
    "print(\"Recall:\", recall)\n",
    "print(\"F1 score:\", f1)"
   ]
  },
  {
   "cell_type": "code",
   "execution_count": 66,
   "metadata": {},
   "outputs": [],
   "source": [
    "from xgboost import  XGBClassifier"
   ]
  },
  {
   "cell_type": "code",
   "execution_count": 67,
   "metadata": {},
   "outputs": [],
   "source": [
    "xg = XGBClassifier()"
   ]
  },
  {
   "cell_type": "code",
   "execution_count": 68,
   "metadata": {},
   "outputs": [
    {
     "data": {
      "text/html": [
       "<style>#sk-container-id-2 {color: black;}#sk-container-id-2 pre{padding: 0;}#sk-container-id-2 div.sk-toggleable {background-color: white;}#sk-container-id-2 label.sk-toggleable__label {cursor: pointer;display: block;width: 100%;margin-bottom: 0;padding: 0.3em;box-sizing: border-box;text-align: center;}#sk-container-id-2 label.sk-toggleable__label-arrow:before {content: \"▸\";float: left;margin-right: 0.25em;color: #696969;}#sk-container-id-2 label.sk-toggleable__label-arrow:hover:before {color: black;}#sk-container-id-2 div.sk-estimator:hover label.sk-toggleable__label-arrow:before {color: black;}#sk-container-id-2 div.sk-toggleable__content {max-height: 0;max-width: 0;overflow: hidden;text-align: left;background-color: #f0f8ff;}#sk-container-id-2 div.sk-toggleable__content pre {margin: 0.2em;color: black;border-radius: 0.25em;background-color: #f0f8ff;}#sk-container-id-2 input.sk-toggleable__control:checked~div.sk-toggleable__content {max-height: 200px;max-width: 100%;overflow: auto;}#sk-container-id-2 input.sk-toggleable__control:checked~label.sk-toggleable__label-arrow:before {content: \"▾\";}#sk-container-id-2 div.sk-estimator input.sk-toggleable__control:checked~label.sk-toggleable__label {background-color: #d4ebff;}#sk-container-id-2 div.sk-label input.sk-toggleable__control:checked~label.sk-toggleable__label {background-color: #d4ebff;}#sk-container-id-2 input.sk-hidden--visually {border: 0;clip: rect(1px 1px 1px 1px);clip: rect(1px, 1px, 1px, 1px);height: 1px;margin: -1px;overflow: hidden;padding: 0;position: absolute;width: 1px;}#sk-container-id-2 div.sk-estimator {font-family: monospace;background-color: #f0f8ff;border: 1px dotted black;border-radius: 0.25em;box-sizing: border-box;margin-bottom: 0.5em;}#sk-container-id-2 div.sk-estimator:hover {background-color: #d4ebff;}#sk-container-id-2 div.sk-parallel-item::after {content: \"\";width: 100%;border-bottom: 1px solid gray;flex-grow: 1;}#sk-container-id-2 div.sk-label:hover label.sk-toggleable__label {background-color: #d4ebff;}#sk-container-id-2 div.sk-serial::before {content: \"\";position: absolute;border-left: 1px solid gray;box-sizing: border-box;top: 0;bottom: 0;left: 50%;z-index: 0;}#sk-container-id-2 div.sk-serial {display: flex;flex-direction: column;align-items: center;background-color: white;padding-right: 0.2em;padding-left: 0.2em;position: relative;}#sk-container-id-2 div.sk-item {position: relative;z-index: 1;}#sk-container-id-2 div.sk-parallel {display: flex;align-items: stretch;justify-content: center;background-color: white;position: relative;}#sk-container-id-2 div.sk-item::before, #sk-container-id-2 div.sk-parallel-item::before {content: \"\";position: absolute;border-left: 1px solid gray;box-sizing: border-box;top: 0;bottom: 0;left: 50%;z-index: -1;}#sk-container-id-2 div.sk-parallel-item {display: flex;flex-direction: column;z-index: 1;position: relative;background-color: white;}#sk-container-id-2 div.sk-parallel-item:first-child::after {align-self: flex-end;width: 50%;}#sk-container-id-2 div.sk-parallel-item:last-child::after {align-self: flex-start;width: 50%;}#sk-container-id-2 div.sk-parallel-item:only-child::after {width: 0;}#sk-container-id-2 div.sk-dashed-wrapped {border: 1px dashed gray;margin: 0 0.4em 0.5em 0.4em;box-sizing: border-box;padding-bottom: 0.4em;background-color: white;}#sk-container-id-2 div.sk-label label {font-family: monospace;font-weight: bold;display: inline-block;line-height: 1.2em;}#sk-container-id-2 div.sk-label-container {text-align: center;}#sk-container-id-2 div.sk-container {/* jupyter's `normalize.less` sets `[hidden] { display: none; }` but bootstrap.min.css set `[hidden] { display: none !important; }` so we also need the `!important` here to be able to override the default hidden behavior on the sphinx rendered scikit-learn.org. See: https://github.com/scikit-learn/scikit-learn/issues/21755 */display: inline-block !important;position: relative;}#sk-container-id-2 div.sk-text-repr-fallback {display: none;}</style><div id=\"sk-container-id-2\" class=\"sk-top-container\"><div class=\"sk-text-repr-fallback\"><pre>XGBClassifier(base_score=None, booster=None, callbacks=None,\n",
       "              colsample_bylevel=None, colsample_bynode=None,\n",
       "              colsample_bytree=None, device=None, early_stopping_rounds=None,\n",
       "              enable_categorical=False, eval_metric=None, feature_types=None,\n",
       "              gamma=None, grow_policy=None, importance_type=None,\n",
       "              interaction_constraints=None, learning_rate=None, max_bin=None,\n",
       "              max_cat_threshold=None, max_cat_to_onehot=None,\n",
       "              max_delta_step=None, max_depth=None, max_leaves=None,\n",
       "              min_child_weight=None, missing=nan, monotone_constraints=None,\n",
       "              multi_strategy=None, n_estimators=None, n_jobs=None,\n",
       "              num_parallel_tree=None, random_state=None, ...)</pre><b>In a Jupyter environment, please rerun this cell to show the HTML representation or trust the notebook. <br />On GitHub, the HTML representation is unable to render, please try loading this page with nbviewer.org.</b></div><div class=\"sk-container\" hidden><div class=\"sk-item\"><div class=\"sk-estimator sk-toggleable\"><input class=\"sk-toggleable__control sk-hidden--visually\" id=\"sk-estimator-id-2\" type=\"checkbox\" checked><label for=\"sk-estimator-id-2\" class=\"sk-toggleable__label sk-toggleable__label-arrow\">XGBClassifier</label><div class=\"sk-toggleable__content\"><pre>XGBClassifier(base_score=None, booster=None, callbacks=None,\n",
       "              colsample_bylevel=None, colsample_bynode=None,\n",
       "              colsample_bytree=None, device=None, early_stopping_rounds=None,\n",
       "              enable_categorical=False, eval_metric=None, feature_types=None,\n",
       "              gamma=None, grow_policy=None, importance_type=None,\n",
       "              interaction_constraints=None, learning_rate=None, max_bin=None,\n",
       "              max_cat_threshold=None, max_cat_to_onehot=None,\n",
       "              max_delta_step=None, max_depth=None, max_leaves=None,\n",
       "              min_child_weight=None, missing=nan, monotone_constraints=None,\n",
       "              multi_strategy=None, n_estimators=None, n_jobs=None,\n",
       "              num_parallel_tree=None, random_state=None, ...)</pre></div></div></div></div></div>"
      ],
      "text/plain": [
       "XGBClassifier(base_score=None, booster=None, callbacks=None,\n",
       "              colsample_bylevel=None, colsample_bynode=None,\n",
       "              colsample_bytree=None, device=None, early_stopping_rounds=None,\n",
       "              enable_categorical=False, eval_metric=None, feature_types=None,\n",
       "              gamma=None, grow_policy=None, importance_type=None,\n",
       "              interaction_constraints=None, learning_rate=None, max_bin=None,\n",
       "              max_cat_threshold=None, max_cat_to_onehot=None,\n",
       "              max_delta_step=None, max_depth=None, max_leaves=None,\n",
       "              min_child_weight=None, missing=nan, monotone_constraints=None,\n",
       "              multi_strategy=None, n_estimators=None, n_jobs=None,\n",
       "              num_parallel_tree=None, random_state=None, ...)"
      ]
     },
     "execution_count": 68,
     "metadata": {},
     "output_type": "execute_result"
    }
   ],
   "source": [
    "xg.fit(X_train,y_train)"
   ]
  },
  {
   "cell_type": "code",
   "execution_count": 69,
   "metadata": {},
   "outputs": [
    {
     "data": {
      "text/plain": [
       "array([1, 1, 1, 1, 1, 0, 1, 1, 1, 1, 1, 1, 1, 1, 1, 1, 1, 1, 1, 1, 1, 1,\n",
       "       1, 1, 1, 1, 1, 1, 0, 1, 1, 0, 1, 1, 1, 0, 1, 1, 1, 1, 1, 1, 1, 1,\n",
       "       1, 1, 1, 1, 1, 1, 1, 1, 1, 1, 1, 1, 1, 1, 1, 1, 1, 1])"
      ]
     },
     "execution_count": 69,
     "metadata": {},
     "output_type": "execute_result"
    }
   ],
   "source": [
    "xg.predict(X_test)"
   ]
  },
  {
   "cell_type": "code",
   "execution_count": 70,
   "metadata": {},
   "outputs": [
    {
     "data": {
      "text/plain": [
       "0.9354838709677419"
      ]
     },
     "execution_count": 70,
     "metadata": {},
     "output_type": "execute_result"
    }
   ],
   "source": [
    "xg.score(X_test,y_test)"
   ]
  },
  {
   "cell_type": "code",
   "execution_count": 71,
   "metadata": {},
   "outputs": [],
   "source": [
    "from sklearn.metrics import confusion_matrix"
   ]
  },
  {
   "cell_type": "code",
   "execution_count": 72,
   "metadata": {},
   "outputs": [],
   "source": [
    "y_pred = xg.predict(X_test)"
   ]
  },
  {
   "cell_type": "code",
   "execution_count": 73,
   "metadata": {},
   "outputs": [],
   "source": [
    "cm = confusion_matrix(y_test, y_pred)"
   ]
  },
  {
   "cell_type": "code",
   "execution_count": 74,
   "metadata": {},
   "outputs": [
    {
     "data": {
      "text/plain": [
       "array([[ 3,  3],\n",
       "       [ 1, 55]], dtype=int64)"
      ]
     },
     "execution_count": 74,
     "metadata": {},
     "output_type": "execute_result"
    }
   ],
   "source": [
    "cm"
   ]
  },
  {
   "cell_type": "code",
   "execution_count": 75,
   "metadata": {},
   "outputs": [],
   "source": [
    "import seaborn as sn"
   ]
  },
  {
   "cell_type": "code",
   "execution_count": 76,
   "metadata": {},
   "outputs": [
    {
     "data": {
      "text/plain": [
       "Text(50.722222222222214, 0.5, 'y_pred')"
      ]
     },
     "execution_count": 76,
     "metadata": {},
     "output_type": "execute_result"
    },
    {
     "data": {
      "image/png": "[encoded data removed]",
      "text/plain": [
       "<Figure size 640x480 with 2 Axes>"
      ]
     },
     "metadata": {},
     "output_type": "display_data"
    }
   ],
   "source": [
    "sn.heatmap(cm,annot=True)\n",
    "plt.title('Confusion Matrix')\n",
    "plt.xlabel('y_test')\n",
    "plt.ylabel('y_pred')"
   ]
  }
 ],
 "metadata": {
  "kernelspec": {
   "display_name": "Python 3",
   "language": "python",
   "name": "python3"
  },
  "language_info": {
   "codemirror_mode": {
    "name": "ipython",
    "version": 3
   },
   "file_extension": ".py",
   "mimetype": "text/x-python",
   "name": "python",
   "nbconvert_exporter": "python",
   "pygments_lexer": "ipython3",
   "version": "3.11.4"
  }
 },
 "nbformat": 4,
 "nbformat_minor": 2
}
